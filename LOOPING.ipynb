{
 "cells": [
  {
   "cell_type": "markdown",
   "id": "53c0a0b4-3553-4bb2-a232-e2f319e4aadf",
   "metadata": {},
   "source": [
    "<h1>PERULANGAN / LOOPING</h1>"
   ]
  },
  {
   "cell_type": "code",
   "execution_count": 6,
   "id": "2534df5f-d4a3-4202-b57d-093ef98c4731",
   "metadata": {},
   "outputs": [
    {
     "name": "stdout",
     "output_type": "stream",
     "text": [
      "Nama buah: Apple\n",
      "Nama buah: Banana\n",
      "Nama buah: Watermelon\n",
      "Nama buah: pineapple\n",
      "Looping Selesai\n"
     ]
    }
   ],
   "source": [
    "#for - while\n",
    "#collections - list, tuple, set, dictionary\n",
    "# for variable in collections\n",
    "\n",
    "fruits = [\"Apple\", \"Banana\", \"Watermelon\", \"pineapple\"]\n",
    "for fruits in fruits:\n",
    "    print(f\"Nama buah: {fruits}\")\n",
    "    \n",
    "print(\"Looping Selesai\")"
   ]
  },
  {
   "cell_type": "code",
   "execution_count": 26,
   "id": "5d09fb96-726d-4004-80dc-d6e0220b8b68",
   "metadata": {},
   "outputs": [
    {
     "name": "stdout",
     "output_type": "stream",
     "text": [
      "Jumlah mahasiswa lulus = 3\n",
      "Jumlah mahasiswa TIDAK lulus = 3\n",
      "Rata - rata nilai pemrograman TI24G adalah: 75.0\n"
     ]
    }
   ],
   "source": [
    "#Hitunglah rata-rata dari nilai pemrograman TI24G\n",
    "\n",
    "pythonScores = [90, 100, 85, 60, 65, 50]\n",
    "total = 0\n",
    "lulus = 0\n",
    "TLulus = 0\n",
    "\n",
    "#1. Menghitung Jumlah total dari nilai - didalam looping\n",
    "#2. Membagi dengan jumlah Data - diluar looping\n",
    "#3. Hitunglah jumlah mahasiswa yang lulus\n",
    "#4. Hitunglah jumlah mahasiswa yang TIDAK lulus\n",
    "\n",
    "for score in pythonScores:\n",
    "    total = total + score\n",
    "    if score >= 70 :\n",
    "        lulus += 1\n",
    "\n",
    "TLulus = len(pythonScores) - lulus\n",
    "\n",
    "print(f\"Jumlah mahasiswa lulus = {lulus}\")\n",
    "print(f\"Jumlah mahasiswa TIDAK lulus = {TLulus}\")\n",
    "\n",
    "rata2 = total / len(pythonScores)\n",
    "print(f\"Rata - rata nilai pemrograman TI24G adalah: {rata2}\")\n",
    "\n"
   ]
  },
  {
   "cell_type": "code",
   "execution_count": 34,
   "id": "5d772524-d088-4ea6-bfb6-783d7982b7d2",
   "metadata": {},
   "outputs": [
    {
     "name": "stdin",
     "output_type": "stream",
     "text": [
      "Isikan Kalimat: ALAMAK\n"
     ]
    },
    {
     "name": "stdout",
     "output_type": "stream",
     "text": [
      "Jumlah huruf vocal = 3\n"
     ]
    }
   ],
   "source": [
    "#Menghitung jumlah huruf vocal - a, i, u, e, o\n",
    "\n",
    "vocal = ['a', 'i', 'u', 'e', 'o']\n",
    "total = 0\n",
    "\n",
    "sentences = input(\"Isikan Kalimat:\")\n",
    "for char in sentences :\n",
    "    if char.lower() in vocal :\n",
    "        total += 1\n",
    "\n",
    "print(f\"Jumlah huruf vocal = {total}\")\n",
    "        "
   ]
  },
  {
   "cell_type": "code",
   "execution_count": 50,
   "id": "a1bb57e7-54bf-400d-b44f-638faf7242eb",
   "metadata": {},
   "outputs": [
    {
     "name": "stdout",
     "output_type": "stream",
     "text": [
      "[100, 400, 900, 1600, 2500]\n",
      "['Lulus', 'Lulus', 'Lulus', 'Tidak Lulus', 'Tidak Lulus', 'Tidak Lulus']\n"
     ]
    }
   ],
   "source": [
    "#List Comprehension\n",
    "data = [10, 20, 30, 40, 50]\n",
    "square = [x**2 for x in data]\n",
    "print(square)\n",
    "\n",
    "pythonScores = [90, 100, 85, 60, 65, 50]\n",
    "passExam = [\"Lulus\" if x >= 70 else \"Tidak Lulus\" for x in pythonScores]\n",
    "print(passExam)"
   ]
  },
  {
   "cell_type": "code",
   "execution_count": 56,
   "id": "10e18212-1577-4dcb-a5ce-48b11a93f1ee",
   "metadata": {},
   "outputs": [
    {
     "name": "stdout",
     "output_type": "stream",
     "text": [
      "0 : Jan\n",
      "1 : Feb\n",
      "2 : Mar\n",
      "3 : Apr\n",
      "4 : May\n",
      "5 : Jun\n",
      "6 : Jul\n",
      "7 : Aug\n",
      "8 : Sep\n",
      "9 : Oct\n",
      "10 : Nov\n",
      "11 : Dec\n"
     ]
    }
   ],
   "source": [
    "#Enumerate\n",
    "month = [\"Jan\", \"Feb\", \"Mar\", \"Apr\", \"May\", \"Jun\", \"Jul\", \"Aug\", \"Sep\", \"Oct\", \"Nov\", \"Dec\"]\n",
    "for index, month in enumerate(month) :\n",
    "    print(f\"{index} : {month}\")"
   ]
  },
  {
   "cell_type": "code",
   "execution_count": 78,
   "id": "4b2058e9-239e-4c86-a255-7eb45bf7765f",
   "metadata": {},
   "outputs": [
    {
     "name": "stdout",
     "output_type": "stream",
     "text": [
      "Jumlah Laki - laki: 4\n",
      "Jumlah Perempuan: 2\n"
     ]
    }
   ],
   "source": [
    "#Menghitung berapa jumlah Laki-laki dan Perempuan pada tempat duduk di bioskop\n",
    "\n",
    "total = 0\n",
    "man = 0\n",
    "women = 0\n",
    "\n",
    "chairs = [\"L\", \"L\", \"P\", \"L\", \"P\", \"L\", \"P\", \"P\"]\n",
    "\n",
    "for gender in chairs:\n",
    "    if gender == \"L\" :\n",
    "        man += 1\n",
    "\n",
    "women = len(chairs) - man\n",
    "print(f\"Jumlah Laki - laki: {man}\")\n",
    "print(f\"Jumlah Perempuan: {women}\")\n"
   ]
  },
  {
   "cell_type": "code",
   "execution_count": 82,
   "id": "4b1cc96f-d8cd-4214-a56c-35272faa93fc",
   "metadata": {},
   "outputs": [
    {
     "name": "stdout",
     "output_type": "stream",
     "text": [
      "Jumlah penonton Couple: 4\n"
     ]
    }
   ],
   "source": [
    "totalCouple = 0\n",
    "\n",
    "chairs = [\"L\", \"\", \"P\", \"L\", \"P\", \"L\", \"\", \"P\", \"P\", \"L\"]\n",
    "\n",
    "for index, chair in enumerate(chairs):\n",
    "    if index < len(chairs) - 1:\n",
    "        if chairs [index] != \"\" and chairs[index +1] != \"\":\n",
    "            if chairs [index] != chairs[index +1]:\n",
    "                totalCouple += 1\n",
    "\n",
    "print(f\"Jumlah penonton Couple: {totalCouple}\")\n",
    "\n"
   ]
  },
  {
   "cell_type": "code",
   "execution_count": 92,
   "id": "a2c1507b-9e74-4d57-8767-def7e77b642f",
   "metadata": {},
   "outputs": [
    {
     "name": "stdout",
     "output_type": "stream",
     "text": [
      "0 1 2 3 4 5 6 7 8 9 \n",
      "5 6 7 8 9 10 11 12 13 14 15 \n",
      "10  20  30  40  50  60  70  80  90  100  \n",
      "10  9  8  7  6  5  4  3  2  1  "
     ]
    }
   ],
   "source": [
    "#RANGE\n",
    "for i in range(10):\n",
    "    print(f\"{i} \", end = '')\n",
    "print()\n",
    "for j in range(5, 16):\n",
    "    print(f\"{j} \", end = '')\n",
    "print()\n",
    "for h in range(1, 11):\n",
    "    print(h * 10, \" \", end = '')\n",
    "print()\n",
    "for n in range(10, 0, -1):\n",
    "    print(n, \" \", end = '')"
   ]
  },
  {
   "cell_type": "code",
   "execution_count": 100,
   "id": "30890c66-586e-4134-a213-39481a1c887f",
   "metadata": {},
   "outputs": [
    {
     "name": "stdin",
     "output_type": "stream",
     "text": [
      "ISIKAN BILANGAN: 5\n"
     ]
    },
    {
     "name": "stdout",
     "output_type": "stream",
     "text": [
      "5! = 120\n"
     ]
    }
   ],
   "source": [
    "#range case\n",
    "#FAKTORIAL\n",
    "\n",
    "total = 1\n",
    "\n",
    "number = int(input(\"ISIKAN BILANGAN:\"))\n",
    "for i in range(1, number+1):\n",
    "    total *= i\n",
    "print(f\"{number}! = {total}\")"
   ]
  },
  {
   "cell_type": "code",
   "execution_count": 104,
   "id": "e15f8eee-d66d-4108-b7a9-43f70ced3f80",
   "metadata": {},
   "outputs": [
    {
     "name": "stdin",
     "output_type": "stream",
     "text": [
      "ISIKAN BILANGAN: 3\n"
     ]
    },
    {
     "name": "stdout",
     "output_type": "stream",
     "text": [
      "3 adalah bilangan Prima\n"
     ]
    }
   ],
   "source": [
    "#BILANGAN PRIMA ATAU BUKAN\n",
    "\n",
    "faktor = 0\n",
    "\n",
    "number = int(input(\"ISIKAN BILANGAN:\"))\n",
    "for i in range(1, number+1):\n",
    "    if number % i==0:\n",
    "        faktor += 1\n",
    "\n",
    "if faktor == 2:\n",
    "    print(f\"{number} adalah bilangan Prima\")\n",
    "else :\n",
    "    print(f\"{number} adalah BUKAN bilangan Prima\")"
   ]
  },
  {
   "cell_type": "code",
   "execution_count": 106,
   "id": "dee9a039-843b-417e-adb2-917347988639",
   "metadata": {},
   "outputs": [
    {
     "name": "stdout",
     "output_type": "stream",
     "text": [
      "1  -2  3  -4  5  -6  7  -8  9  -10  "
     ]
    }
   ],
   "source": [
    "sign = 1\n",
    "\n",
    "for i in range(1, 11):\n",
    "    result = sign * i\n",
    "    print(result, \" \", end = '')\n",
    "    sign = sign * -1"
   ]
  },
  {
   "cell_type": "code",
   "execution_count": null,
   "id": "39e8ad0f-7ad7-42de-bda8-474452178902",
   "metadata": {},
   "outputs": [],
   "source": []
  }
 ],
 "metadata": {
  "kernelspec": {
   "display_name": "Python [conda env:base] *",
   "language": "python",
   "name": "conda-base-py"
  },
  "language_info": {
   "codemirror_mode": {
    "name": "ipython",
    "version": 3
   },
   "file_extension": ".py",
   "mimetype": "text/x-python",
   "name": "python",
   "nbconvert_exporter": "python",
   "pygments_lexer": "ipython3",
   "version": "3.12.7"
  }
 },
 "nbformat": 4,
 "nbformat_minor": 5
}
