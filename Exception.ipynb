{
 "cells": [
  {
   "cell_type": "code",
   "execution_count": 23,
   "id": "ace35800-c5d5-4e4b-807d-442c8c938cb2",
   "metadata": {},
   "outputs": [
    {
     "name": "stdin",
     "output_type": "stream",
     "text": [
      "Angka ke-1: e\n"
     ]
    },
    {
     "name": "stdout",
     "output_type": "stream",
     "text": [
      "invalid literal for int() with base 10: 'e'\n",
      "Program selesai!\n"
     ]
    }
   ],
   "source": [
    "try:\n",
    "    angka1 = int(input(\"Angka ke-1:\"))\n",
    "    angka2 = int(input(\"Angka ke-2:\"))\n",
    "    hasil = angka1 / angka2\n",
    "except (ValueError,ZeroDivisionError) as error:\n",
    "    print(error)\n",
    "else:\n",
    "    print(hasil)\n",
    "\n",
    "finally:\n",
    "    print(\"Program selesai!\")"
   ]
  },
  {
   "cell_type": "code",
   "execution_count": 33,
   "id": "fb19623c-9300-4ce8-ae89-e8ed53a7cd34",
   "metadata": {},
   "outputs": [
    {
     "name": "stdout",
     "output_type": "stream",
     "text": [
      "list index out of range\n"
     ]
    }
   ],
   "source": [
    "#index error\n",
    "\n",
    "listIndex = [0, 1, 2]\n",
    "try:\n",
    "    print(input(listIndex[3]))\n",
    "except IndexError as error:\n",
    "    print(error)\n",
    "\n",
    "finally:\n",
    "    print(\"Program Selesai\")"
   ]
  },
  {
   "cell_type": "code",
   "execution_count": 38,
   "id": "fe0f209c-232d-43d4-b0c8-e611b1ba229d",
   "metadata": {},
   "outputs": [
    {
     "name": "stdout",
     "output_type": "stream",
     "text": [
      "Tidak ada atribut yang sama\n",
      "Program Selesai!\n"
     ]
    }
   ],
   "source": [
    "#Key Error\n",
    "\n",
    "data = {\n",
    "    'day' : ['mod', 'tue', 'wed', 'thu', 'fri', 'sat', 'sun']\n",
    "}\n",
    "\n",
    "try:\n",
    "    print(data['month'])\n",
    "\n",
    "except KeyError:\n",
    "    print(\"Tidak ada atribut yang sama\")\n",
    "\n",
    "finally:\n",
    "    print(\"Program Selesai!\")"
   ]
  },
  {
   "cell_type": "code",
   "execution_count": 42,
   "id": "e3c1f6ac-0de5-4aec-9c54-279009dd9456",
   "metadata": {},
   "outputs": [
    {
     "name": "stdin",
     "output_type": "stream",
     "text": [
      "jumlah data yang akan dimasukkan: 3\n",
      "isikan nama siswa anby\n",
      "isikan nama siswa nicole\n",
      "isikan nama siswa billy\n",
      "No urut berapa yang akan ditampilkan? 1\n"
     ]
    },
    {
     "name": "stdout",
     "output_type": "stream",
     "text": [
      "Nama Siswa ke1 : anby\n",
      "Load DATA selesai!\n"
     ]
    }
   ],
   "source": [
    "try:\n",
    "    jumlahData = int(input('jumlah data yang akan dimasukkan:'))\n",
    "    listNama = []\n",
    "    for i in range (0,jumlahData):\n",
    "        nama= input (\"isikan nama siswa\")\n",
    "        listNama.append(nama)\n",
    "    indeks = int(input(\"No urut berapa yang akan ditampilkan?\"))\n",
    "\n",
    "except (ValueError, IndexError) as error:\n",
    "    print(error)\n",
    "\n",
    "else:\n",
    "    print (f\"Nama Siswa ke{indeks} : {listNama[indeks-1]}\")\n",
    "\n",
    "finally:\n",
    "    print(\"Load DATA selesai!\")"
   ]
  },
  {
   "cell_type": "code",
   "execution_count": 66,
   "id": "d6c47fe7-1bd1-405e-86d8-edfc98086ac9",
   "metadata": {},
   "outputs": [
    {
     "name": "stdout",
     "output_type": "stream",
     "text": [
      "Film dewasa harus diatas 17 tahun\n",
      "Program Selesai\n"
     ]
    }
   ],
   "source": [
    "#Special Exception -> Own Exception\n",
    "\n",
    "class UmurException(Exception):\n",
    "    pass\n",
    "\n",
    "def cekUmur(umur):\n",
    "    if(umur<=17):\n",
    "        raise UmurException(\"Film dewasa harus diatas 17 tahun\")\n",
    "\n",
    "try:\n",
    "    cekUmur(5)\n",
    "    print(\"Selamat datang!\")\n",
    "except UmurException as ue:\n",
    "    print(ue)\n",
    "else:\n",
    "    print(\"Pilih Film sesuai umur anda\")\n",
    "finally:\n",
    "    print(\"Program Selesai\")"
   ]
  },
  {
   "cell_type": "code",
   "execution_count": null,
   "id": "3b6d53db-e951-4cbd-9dbf-fcd92c4b0985",
   "metadata": {},
   "outputs": [],
   "source": [
    "#File Handling\n",
    "#open(nama_file, mode) -> file dengan tipe plain teks\n",
    "#mode -> a (append), r (read), w (write)\n",
    "\n",
    "try:\n",
    "    f = open('data_calon_nasabah.csv', 'r')\n",
    "    teks = f.read()\n",
    "    print(teks)\n",
    "except FileNotFoundError:\n",
    "    print(\"File Tidak DItemukan.\")\n",
    "else:\n",
    "    pirnt(\"Load data selesai.\")\n",
    "finally:\n",
    "    f.close()"
   ]
  },
  {
   "cell_type": "code",
   "execution_count": 74,
   "id": "7e751196-2ff6-4bb4-a2eb-3f5481621f41",
   "metadata": {},
   "outputs": [],
   "source": [
    "try:\n",
    "    with open('data.txt', 'w') as f:\n",
    "        f.write(\"Halo\\n\")\n",
    "        f.write(\"anjay\\n\")\n",
    "        f.write(\"mantap\\n\")\n",
    "\n",
    "except FileNotFoundError:\n",
    "    print(\"File tidak ditemukan\")\n",
    "else:\n",
    "    print(\"Data berhasil dibuat\")\n",
    "finally:\n",
    "    print(\"Program selesai.\")\n",
    "    "
   ]
  },
  {
   "cell_type": "code",
   "execution_count": null,
   "id": "961d6399-2ddc-498e-b0ea-1c5beef0a4ce",
   "metadata": {},
   "outputs": [],
   "source": []
  }
 ],
 "metadata": {
  "kernelspec": {
   "display_name": "Python [conda env:base] *",
   "language": "python",
   "name": "conda-base-py"
  },
  "language_info": {
   "codemirror_mode": {
    "name": "ipython",
    "version": 3
   },
   "file_extension": ".py",
   "mimetype": "text/x-python",
   "name": "python",
   "nbconvert_exporter": "python",
   "pygments_lexer": "ipython3",
   "version": "3.12.7"
  }
 },
 "nbformat": 4,
 "nbformat_minor": 5
}
