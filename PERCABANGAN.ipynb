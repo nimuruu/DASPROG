{
 "cells": [
  {
   "cell_type": "code",
   "execution_count": 13,
   "id": "994c3d0a-e918-44e2-8892-6e7e01995bb0",
   "metadata": {},
   "outputs": [
    {
     "name": "stdin",
     "output_type": "stream",
     "text": [
      "Masukan umur: 0\n"
     ]
    },
    {
     "name": "stdout",
     "output_type": "stream",
     "text": [
      "Kategori :Anak -anak\n"
     ]
    }
   ],
   "source": [
    "umur = int(input(\"Masukan umur:\"))\n",
    "\n",
    "if umur > 59 :\n",
    "    kategori = \"Lansia\"\n",
    "\n",
    "elif umur > 17 :\n",
    "    kategori = \"Dewasa\"\n",
    "\n",
    "elif umur > 12 :\n",
    "    kategori = \"Remaja\"\n",
    "\n",
    "elif umur >= 0 :\n",
    "    kategori = \"Anak -anak\"\n",
    "\n",
    "else :\n",
    "    kategori = \"Umur tidak valid\"\n",
    "    \n",
    "print(f\"Kategori :{kategori}\")"
   ]
  },
  {
   "cell_type": "code",
   "execution_count": 23,
   "id": "43d2db55-5e9b-4e7f-9e49-970737b31ab0",
   "metadata": {},
   "outputs": [
    {
     "name": "stdin",
     "output_type": "stream",
     "text": [
      "Isikan umur pengunjung: 60\n",
      "Isikan jumlah pengunjung: 60\n",
      "Isikan jumlah pengunjung: 60\n"
     ]
    },
    {
     "name": "stdout",
     "output_type": "stream",
     "text": [
      "Tiket 1: Tiket Dewasa total harga 25000\n",
      "Tiket 2: Tiket Dewasa total harga 25000\n",
      "Tiket 3: Tiket Dewasa total harga 25000\n",
      "==============================================\n",
      "Total harga yang harus dibayar : 75000\n"
     ]
    }
   ],
   "source": [
    "tiket1 = int(input(\"Isikan umur pengunjung:\"))\n",
    "tiket2 = int(input(\"Isikan jumlah pengunjung:\"))\n",
    "tiket3 = int(input(\"Isikan jumlah pengunjung:\"))\n",
    "\n",
    "total = 0\n",
    "\n",
    "if tiket1 > 60 :\n",
    "    keterangan1 = \"Tiket lansia\"\n",
    "    harga1 = 0\n",
    "elif tiket1 > 17 :\n",
    "    keterangan1 = \"Tiket Dewasa\"\n",
    "    harga1 = 25000\n",
    "elif tiket1 > 12 :\n",
    "    keterangan1 = \"Tiket Remaja\"\n",
    "    harga1 = 15000\n",
    "elif tiket1 >= 0 :\n",
    "    keterangan1 = \"Tiket Anak - anak\"\n",
    "    harga1 = 10000\n",
    "total += harga1\n",
    "\n",
    "if tiket2 > 60 :\n",
    "    keterangan2 = \"Tiket lansia\"\n",
    "    harga2 = 0\n",
    "elif tiket2 > 17 :\n",
    "    keterangan2 = \"Tiket Dewasa\"\n",
    "    harga2 = 25000\n",
    "elif tiket2 > 12 :\n",
    "    keterangan2 = \"Tiket Remaja\"\n",
    "    harga2 = 15000\n",
    "elif tiket2 >= 0 :\n",
    "    keterangan2 = \"Tiket Anak - anak\"\n",
    "    harga2 = 10000\n",
    "total += harga2\n",
    "\n",
    "if tiket3 > 60 :\n",
    "    keterangan3 = \"Tiket lansia\"\n",
    "    harga3 = 0\n",
    "elif tiket3 > 17 :\n",
    "    keterangan3 = \"Tiket Dewasa\"\n",
    "    harga3 = 25000\n",
    "elif tiket3 > 12 :\n",
    "    keterangan3 = \"Tiket Remaja\"\n",
    "    harga3 = 15000\n",
    "elif tiket3 >= 0 :\n",
    "    keterangan3 = \"Tiket Anak - anak\"\n",
    "    harga3 = 10000\n",
    "total += harga3\n",
    "\n",
    "\n",
    "print(f\"Tiket 1: {keterangan1} total harga {harga1}\")\n",
    "print(f\"Tiket 2: {keterangan2} total harga {harga2}\")\n",
    "print(f\"Tiket 3: {keterangan3} total harga {harga3}\")\n",
    "print(\"==============================================\")\n",
    "print(f\"Total harga yang harus dibayar : {total}\")"
   ]
  },
  {
   "cell_type": "code",
   "execution_count": 41,
   "id": "f95e68f1-42ef-4928-bccc-534b8debcbc9",
   "metadata": {},
   "outputs": [
    {
     "name": "stdin",
     "output_type": "stream",
     "text": [
      "Isikan pembayaran UKT: 5000000\n",
      "Isikan penghasilan ortu: 900000\n",
      "Isikan Nilai Rapor Siswa: 85\n"
     ]
    },
    {
     "name": "stdout",
     "output_type": "stream",
     "text": [
      "Anda harus membayar: 2500000.0\n"
     ]
    }
   ],
   "source": [
    "ukt = int(input(\"Isikan pembayaran UKT:\"))\n",
    "penghasilan = int(input(\"Isikan penghasilan ortu:\"))\n",
    "nilaiRapor = int(input(\"Isikan Nilai Rapor Siswa:\"))\n",
    "\n",
    "beasiswa = 0\n",
    "\n",
    "if nilaiRapor >= 90 :\n",
    "    if penghasilan < 5000000 :\n",
    "        beasiswa = 100\n",
    "elif nilaiRapor >= 85 :\n",
    "    if penghasilan < 8000000 :\n",
    "        beasiswa = 50\n",
    "else :\n",
    "    print(\"Anda tidak mendapatkan beasiswa\")\n",
    "\n",
    "\n",
    "total = ukt - (ukt * (beasiswa / 100))\n",
    "print(f\"Anda harus membayar: {total}\")"
   ]
  },
  {
   "cell_type": "code",
   "execution_count": 51,
   "id": "b52b8605-fae6-4ef9-884d-6e089c664cbe",
   "metadata": {},
   "outputs": [
    {
     "name": "stdin",
     "output_type": "stream",
     "text": [
      "Masukan kendaraan: (mobil/motor) motor\n",
      "Lama durasi parkir: (jam) 6\n"
     ]
    },
    {
     "name": "stdout",
     "output_type": "stream",
     "text": [
      "Total yang harus dibayar: 22000\n"
     ]
    }
   ],
   "source": [
    "jenis = input(\"Masukan kendaraan: (mobil/motor)\")\n",
    "lamaParkir = int(input(\"Lama durasi parkir: (jam)\"))\n",
    "\n",
    "harga = 0\n",
    "    \n",
    "if jenis == \"mobil\" :\n",
    "    harga += 5000\n",
    "elif jenis == \"motor\" :\n",
    "    harga += 2000\n",
    "else :\n",
    "    print(\"Kendaraan tidak valid\")\n",
    "    harga = 0\n",
    "\n",
    "totalHarga = harga * lamaParkir\n",
    "if lamaParkir >= 5 :\n",
    "    totalHarga += 10000\n",
    "print(f\"Total yang harus dibayar: {totalHarga}\")\n"
   ]
  },
  {
   "cell_type": "code",
   "execution_count": 59,
   "id": "f2f57860-1102-44fa-acee-279ef86de213",
   "metadata": {},
   "outputs": [
    {
     "name": "stdin",
     "output_type": "stream",
     "text": [
      "Masukan nomor punggung 63\n"
     ]
    },
    {
     "name": "stdout",
     "output_type": "stream",
     "text": [
      "Anda menjadi defender dan anda Keeper\n"
     ]
    }
   ],
   "source": [
    "nomor = int(input(\"Masukan nomor punggung\"))\n",
    "\n",
    "if nomor % 2 == 0 :\n",
    "    keterangan = \"target attaker\"\n",
    "    if 50 <= nomor <= 100 : \n",
    "        keterangan2 = \"Berhak dipilih menjadi kapten\"\n",
    "elif nomor % 2 == 1:\n",
    "    keterangan = \"defender\"\n",
    "    if nomor > 90 :\n",
    "        keterangan2 = \"PlayMaker\"\n",
    "    elif nomor % 3 == 0 or nomor % 5 == 0 :\n",
    "        keterangan2 = \"Keeper\"\n",
    "else :\n",
    "    print(\"Tidak Valdi\")\n",
    "\n",
    "print(f\"Anda menjadi {keterangan} dan anda {keterangan2}\")"
   ]
  },
  {
   "cell_type": "code",
   "execution_count": null,
   "id": "bcbe9496-47d2-4c6e-ab88-7f83f812f433",
   "metadata": {},
   "outputs": [],
   "source": []
  }
 ],
 "metadata": {
  "kernelspec": {
   "display_name": "Python [conda env:base] *",
   "language": "python",
   "name": "conda-base-py"
  },
  "language_info": {
   "codemirror_mode": {
    "name": "ipython",
    "version": 3
   },
   "file_extension": ".py",
   "mimetype": "text/x-python",
   "name": "python",
   "nbconvert_exporter": "python",
   "pygments_lexer": "ipython3",
   "version": "3.12.7"
  }
 },
 "nbformat": 4,
 "nbformat_minor": 5
}
