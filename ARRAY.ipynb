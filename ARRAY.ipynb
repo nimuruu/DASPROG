{
 "cells": [
  {
   "cell_type": "markdown",
   "id": "b3160447-9602-4868-bb28-93480e410f54",
   "metadata": {},
   "source": [
    "<h1>NUMPY</h1>"
   ]
  },
  {
   "cell_type": "code",
   "execution_count": 6,
   "id": "27716a67-3407-4467-bdd2-0f89a0e78c96",
   "metadata": {},
   "outputs": [],
   "source": [
    "import numpy as np"
   ]
  },
  {
   "cell_type": "code",
   "execution_count": 8,
   "id": "e49b0072-b099-4715-b1a3-b493a348f019",
   "metadata": {},
   "outputs": [],
   "source": [
    "mat1D = np.array([1,2,3,4,5,6,7,8,9])\n",
    "mat2D = np.array([[10,20,30,40],[50,60,70,80],[90,100,110,120]])"
   ]
  },
  {
   "cell_type": "code",
   "execution_count": 10,
   "id": "e5febfff-3a27-495b-a166-cc9fd9d7c8a5",
   "metadata": {},
   "outputs": [
    {
     "name": "stdout",
     "output_type": "stream",
     "text": [
      "Nilai mat1D :\n",
      "[1 2 3 4 5 6 7 8 9]\n",
      "Nilai mat2D :\n",
      "[[ 10  20  30  40]\n",
      " [ 50  60  70  80]\n",
      " [ 90 100 110 120]]\n"
     ]
    }
   ],
   "source": [
    "print(f\"Nilai mat1D :\\n{mat1D}\")\n",
    "print(f\"Nilai mat2D :\\n{mat2D}\")"
   ]
  },
  {
   "cell_type": "code",
   "execution_count": 18,
   "id": "74504ef3-0c66-472d-87cd-b96e06a3caf1",
   "metadata": {},
   "outputs": [
    {
     "name": "stdout",
     "output_type": "stream",
     "text": [
      "2\n",
      "[50 60 70 80]\n",
      "70\n",
      "mat1D ditambah dengan 10:\n",
      " [11 12 13 14 15 16 17 18 19]\n"
     ]
    }
   ],
   "source": [
    "print(mat1D[1])\n",
    "print(mat2D[1])\n",
    "print(mat2D[1][2])\n",
    "print(f\"mat1D ditambah dengan 10:\\n {mat1D + 10}\")"
   ]
  },
  {
   "cell_type": "code",
   "execution_count": 24,
   "id": "d787a76c-1c10-4525-a096-a5ba2fdbc434",
   "metadata": {},
   "outputs": [
    {
     "name": "stdout",
     "output_type": "stream",
     "text": [
      "(3, 4)\n",
      "12\n"
     ]
    }
   ],
   "source": [
    "print(mat2D.shape)\n",
    "print(mat2D.size)"
   ]
  },
  {
   "cell_type": "code",
   "execution_count": 60,
   "id": "366174fa-6d19-4842-91a5-4a61975592e9",
   "metadata": {},
   "outputs": [],
   "source": [
    "#Matriks Special\n",
    "mZero = np.zeros ((4,4))\n",
    "mOne = np.ones ((3,3))\n",
    "mIdentity = np.eye(3)\n",
    "mFull = np.full((3,4),9)\n",
    "mRand1D = np.random.rand(5)\n",
    "mRand2D = np.random.rand(3,4)\n",
    "mRandInt1D = np.random.randint(1,100, size = 8)\n",
    "mRandInt2D = np.random.randint(1,100, size = (3,3))"
   ]
  },
  {
   "cell_type": "code",
   "execution_count": 62,
   "id": "9c05d929-9d65-4400-ad0d-9ff648eab5c1",
   "metadata": {},
   "outputs": [
    {
     "name": "stdout",
     "output_type": "stream",
     "text": [
      "mZero :\n",
      "[[0. 0. 0. 0.]\n",
      " [0. 0. 0. 0.]\n",
      " [0. 0. 0. 0.]\n",
      " [0. 0. 0. 0.]]\n",
      "mOne :\n",
      "[[1. 1. 1.]\n",
      " [1. 1. 1.]\n",
      " [1. 1. 1.]]\n",
      "mIdentity :\n",
      "[[1. 0. 0.]\n",
      " [0. 1. 0.]\n",
      " [0. 0. 1.]]\n",
      "mFull :\n",
      "[[9 9 9 9]\n",
      " [9 9 9 9]\n",
      " [9 9 9 9]]\n",
      "mRand :\n",
      "[0.95501512 0.51862655 0.69060939 0.59715316 0.9760213 ]\n",
      "mRand :\n",
      "[[0.87935803 0.36876409 0.49470219 0.16518001]\n",
      " [0.95535729 0.70324447 0.66425931 0.96710911]\n",
      " [0.28397565 0.16244855 0.69343857 0.92575768]]\n",
      "mRand :\n",
      "[74 15 88 87 80 12 88  4]\n",
      "mRand :\n",
      "[[12  5 26]\n",
      " [72 66 47]\n",
      " [14 22 80]]\n"
     ]
    }
   ],
   "source": [
    "print(f\"mZero :\\n{mZero}\")\n",
    "print(f\"mOne :\\n{mOne}\")\n",
    "print(f\"mIdentity :\\n{mIdentity}\")\n",
    "print(f\"mFull :\\n{mFull}\")\n",
    "print(f\"mRand :\\n{mRand1D}\")\n",
    "print(f\"mRand :\\n{mRand2D}\")\n",
    "print(f\"mRand :\\n{mRandInt1D}\")\n",
    "print(f\"mRand :\\n{mRandInt2D}\")"
   ]
  },
  {
   "cell_type": "code",
   "execution_count": 64,
   "id": "16b6e715-af69-4b81-8f2a-d41eb3ffca97",
   "metadata": {},
   "outputs": [
    {
     "name": "stdout",
     "output_type": "stream",
     "text": [
      "Hasil pertambahan x dan y : [ 7  9 11 13 15]\n",
      "Hasil perkalian dot product : 130\n"
     ]
    }
   ],
   "source": [
    "#Operasi Aritmatika\n",
    "x = np.array([1,2,3,4,5])\n",
    "y = np.array([6,7,8,9,10])\n",
    "\n",
    "r1 = np.add(x,y)\n",
    "r2 = np.dot(x,y)\n",
    "\n",
    "print(f\"Hasil pertambahan x dan y : {r1}\")\n",
    "print(f\"Hasil perkalian dot product : {r2}\")"
   ]
  },
  {
   "cell_type": "code",
   "execution_count": 72,
   "id": "cab00740-84fb-4c94-8c42-569fbfe3d73a",
   "metadata": {},
   "outputs": [
    {
     "name": "stdout",
     "output_type": "stream",
     "text": [
      "Nilai Pemrograman : [100  90  90  50  80  60  50  85]\n",
      "Nilai yang paling rendah : 50\n",
      "Nilai yang paling tinggi : 100\n",
      "Nilai yang paling rata-rata : 75.625\n",
      "Nilai kesuluruhan : 605\n",
      "Nilai Standar Deviasi : 18.275239396516806\n",
      "Nilai tengah : 82.5\n"
     ]
    }
   ],
   "source": [
    "#Fungsi dasar Statistik\n",
    "nilaiProgramming = np.array([100,90,90,50,80,60,50,85])\n",
    "print(f\"Nilai Pemrograman : {nilaiProgramming}\")\n",
    "print(f\"Nilai yang paling rendah : {np.min(nilaiProgramming)}\")\n",
    "print(f\"Nilai yang paling tinggi : {np.max(nilaiProgramming)}\")\n",
    "print(f\"Nilai yang paling rata-rata : {np.mean(nilaiProgramming)}\")\n",
    "print(f\"Nilai kesuluruhan : {np.sum(nilaiProgramming)}\")\n",
    "print(f\"Nilai Standar Deviasi : {np.std(nilaiProgramming)}\")\n",
    "print(f\"Nilai tengah : {np.median(nilaiProgramming)}\")\n"
   ]
  },
  {
   "cell_type": "code",
   "execution_count": 78,
   "id": "4922509d-9bb9-4a5a-bfe0-2b217d234682",
   "metadata": {},
   "outputs": [
    {
     "name": "stdout",
     "output_type": "stream",
     "text": [
      "matX adalah :\n",
      "[[ 1  2  3  4  5]\n",
      " [ 6  7  8  9 10]]\n",
      "matX diubah bentuk :\n",
      "[[ 1  2  3  4  5  6  7  8  9 10]]\n",
      "matX diubah bentuk menjadi flat :\n",
      "[ 1  2  3  4  5  6  7  8  9 10]\n"
     ]
    }
   ],
   "source": [
    "#Operasi Bentuk\n",
    "matX = np.array([[1,2,3,4,5],[6,7,8,9,10]])\n",
    "print(f\"matX adalah :\\n{matX}\")\n",
    "print(f\"matX diubah bentuk :\\n{matX.reshape(1,10)}\")\n",
    "print(f\"matX diubah bentuk menjadi flat :\\n{matX.flatten()}\")\n"
   ]
  },
  {
   "cell_type": "code",
   "execution_count": 88,
   "id": "48cc2018-87e8-4fb9-aa73-199e5e753f81",
   "metadata": {},
   "outputs": [
    {
     "name": "stdout",
     "output_type": "stream",
     "text": [
      "Daftar nilai yang lulus : [100  90  90  80  60  85]\n",
      "Jumlah nilai yang lulus : 6\n"
     ]
    }
   ],
   "source": [
    "#Filtering\n",
    "lulus = nilaiProgramming[nilaiProgramming > 50]\n",
    "\n",
    "print(f\"Daftar nilai yang lulus : {lulus}\")\n",
    "print(f\"Jumlah nilai yang lulus : {lulus.size}\")"
   ]
  },
  {
   "cell_type": "markdown",
   "id": "acd0eb83-91b2-4015-a844-2ee660e53b24",
   "metadata": {},
   "source": [
    "<h1>Contoh Soal</h1>\n",
    "Buatlah data set sebanyak 10.000 untuk prosses klasifikasi nasabah kartu kredit\n",
    "<ol>\n",
    "    <li>Usia : 17 - 60</li>\n",
    "    <li>Gender : L/P</li>\n",
    "    <li>Gaji : 1jt-3jt, 3jt-5jt, 5jt-10jt</li>\n",
    "    <li>Jumlah Anak : 0 - 6</li>\n",
    "</ol>"
   ]
  },
  {
   "cell_type": "code",
   "execution_count": 132,
   "id": "b9a4d12f-ef8f-4a83-84d1-d8ac42f69047",
   "metadata": {},
   "outputs": [
    {
     "name": "stdout",
     "output_type": "stream",
     "text": [
      "Nasabah paling muda : 17\n",
      "Nasabah paling tua : 60\n",
      "Jumlah calon nasabah laki-laki : 5023.0\n",
      "Jumlah calon nasabah laki-laki : 5023\n",
      "Jumlah calon nasabah Perempuan : 4977.0\n",
      "Jumlah calon nasabah Perempuan : 4977\n"
     ]
    }
   ],
   "source": [
    "import numpy as np\n",
    "import pandas as pd\n",
    "\n",
    "n_data = 10000\n",
    "usia = np.random.randint(17,61, size = n_data)\n",
    "gender = np.random.choice(['L','P'], size = n_data)\n",
    "gaji = np.random.choice(['1-3jt', '3-5jt', '5-10jt'], size = n_data)\n",
    "anak = np.random.randint(0,7, size = n_data)\n",
    "\n",
    "df = pd.DataFrame({\n",
    "    'Usia' : usia,\n",
    "    'Gender' : gender,\n",
    "    'Gaji' : gaji,\n",
    "    'Jumlah Anak' : anak\n",
    "})\n",
    "\n",
    "#df.to_csv('data_calon_nasabah.csv')\n",
    "\n",
    "print(f\"Nasabah paling muda : {df['Usia'].min()}\")\n",
    "print(f\"Nasabah paling tua : {df['Usia'].max()}\")\n",
    "\n",
    "jmlLaki = df[df['Gender']=='L']\n",
    "jmlPerempuan = df[df['Gender']=='P']\n",
    "print(f\"Jumlah calon nasabah laki-laki : {jmlLaki.size/4}\")\n",
    "print(f\"Jumlah calon nasabah laki-laki : {jmlLaki['Gender'].size}\")\n",
    "print(f\"Jumlah calon nasabah Perempuan : {jmlPerempuan.size/4}\")\n",
    "print(f\"Jumlah calon nasabah Perempuan : {jmlPerempuan['Gender'].size}\")"
   ]
  },
  {
   "cell_type": "code",
   "execution_count": null,
   "id": "d58f0ce9-a7fd-47a6-86f3-c252b9511618",
   "metadata": {},
   "outputs": [],
   "source": []
  }
 ],
 "metadata": {
  "kernelspec": {
   "display_name": "Python [conda env:base] *",
   "language": "python",
   "name": "conda-base-py"
  },
  "language_info": {
   "codemirror_mode": {
    "name": "ipython",
    "version": 3
   },
   "file_extension": ".py",
   "mimetype": "text/x-python",
   "name": "python",
   "nbconvert_exporter": "python",
   "pygments_lexer": "ipython3",
   "version": "3.12.7"
  }
 },
 "nbformat": 4,
 "nbformat_minor": 5
}
