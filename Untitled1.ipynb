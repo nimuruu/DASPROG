{
 "cells": [
  {
   "cell_type": "code",
   "execution_count": 15,
   "id": "26749fe5-1495-4e58-8ec6-4cbe3c086f9c",
   "metadata": {},
   "outputs": [
    {
     "name": "stdin",
     "output_type": "stream",
     "text": [
      "Isikan nama anda: aNBY\n"
     ]
    },
    {
     "name": "stdout",
     "output_type": "stream",
     "text": [
      "Selamat datang aNBY\n",
      "Selamat datang AndiSelamat datang BudiSelamat datang Dina\n",
      "Anggur, Apel, Semangka\n"
     ]
    }
   ],
   "source": [
    "name = input(\"Isikan nama anda:\")\n",
    "print(\"Selamat datang\", name)\n",
    "\n",
    "print(\"Selamat datang Andi\", end='')\n",
    "print(\"Selamat datang Budi\", end='')\n",
    "print(\"Selamat datang Dina\")\n",
    "print(\"Anggur\", \"Apel\", \"Semangka\", sep=', ')\n",
    "\n"
   ]
  },
  {
   "cell_type": "code",
   "execution_count": 19,
   "id": "40efd140-a5da-4168-a098-8de5fe77372d",
   "metadata": {},
   "outputs": [
    {
     "name": "stdin",
     "output_type": "stream",
     "text": [
      "Isikan bilangan 1: 1\n",
      "Isikan bilangan 2: 2\n"
     ]
    },
    {
     "name": "stdout",
     "output_type": "stream",
     "text": [
      "Hasil penjumlahan 1 + 2 = 3\n"
     ]
    }
   ],
   "source": [
    "val1 = int(input(\"Isikan bilangan 1:\"))\n",
    "val2 = int(input(\"Isikan bilangan 2:\"))\n",
    "result = val1 + val2\n",
    "\n",
    "print(\"Hasil penjumlahan {} + {} = {}\" .format(val1, val2, result))"
   ]
  },
  {
   "cell_type": "code",
   "execution_count": 39,
   "id": "9888fe9f-96cc-4c32-a37f-b89b173ad5eb",
   "metadata": {},
   "outputs": [
    {
     "name": "stdin",
     "output_type": "stream",
     "text": [
      "Isikan nama awal: 123\n",
      "Isikan nama tengah: 123\n",
      "Isikan nama akhir: 123\n"
     ]
    },
    {
     "name": "stdout",
     "output_type": "stream",
     "text": [
      "Nama lengkap : 123123123\n",
      "Name lengkap: Rudi Suwarna Andi\n"
     ]
    }
   ],
   "source": [
    "#INDEX\n",
    "fName = input(\"Isikan nama awal:\")\n",
    "mName = input(\"Isikan nama tengah:\")\n",
    "lName = input(\"Isikan nama akhir:\")\n",
    "print(\"Nama lengkap : {2}{0}{1}\" .format(fName, mName, lName))\n",
    "\n",
    "#Key\n",
    "print(\"Name lengkap: {depan} {tengah} {belakang}\" .format(belakang = 'Andi', depan = 'Rudi', tengah = 'Suwarna'))\n"
   ]
  },
  {
   "cell_type": "code",
   "execution_count": 5,
   "id": "011e13cb-3242-471d-b806-b69c534a81d7",
   "metadata": {},
   "outputs": [
    {
     "name": "stdin",
     "output_type": "stream",
     "text": [
      "Isikan NIM Anda: 123\n"
     ]
    },
    {
     "ename": "TypeError",
     "evalue": "'str' object is not callable",
     "output_type": "error",
     "traceback": [
      "\u001b[1;31m---------------------------------------------------------------------------\u001b[0m",
      "\u001b[1;31mTypeError\u001b[0m                                 Traceback (most recent call last)",
      "Cell \u001b[1;32mIn[5], line 9\u001b[0m\n\u001b[0;32m      6\u001b[0m urut \u001b[38;5;241m=\u001b[39m nim[\u001b[38;5;241m7\u001b[39m:]\n\u001b[0;32m      8\u001b[0m \u001b[38;5;66;03m#FString\u001b[39;00m\n\u001b[1;32m----> 9\u001b[0m \u001b[38;5;28mprint\u001b[39m(\u001b[38;5;124mf\u001b[39m\u001b[38;5;124m\"\u001b[39m\u001b[38;5;124mTahun Masuk : \u001b[39m\u001b[38;5;132;01m{\u001b[39;00mtahun\u001b[38;5;132;01m}\u001b[39;00m\u001b[38;5;124m\"\u001b[39m)\n\u001b[0;32m     10\u001b[0m \u001b[38;5;28mprint\u001b[39m(\u001b[38;5;124mf\u001b[39m\u001b[38;5;124m\"\u001b[39m\u001b[38;5;124mProdi Anda : \u001b[39m\u001b[38;5;132;01m{\u001b[39;00mprodi\u001b[38;5;132;01m}\u001b[39;00m\u001b[38;5;124m\"\u001b[39m)\n",
      "\u001b[1;31mTypeError\u001b[0m: 'str' object is not callable"
     ]
    }
   ],
   "source": [
    "#SLICING\n",
    "nim = input(\"Isikan NIM Anda:\")\n",
    "tahun = nim[0:4]\n",
    "prodi = nim[4:7]\n",
    "kodeProdi = \"Teknik Informatika\" if prodi==\"004\" else \"Tidak Keren\"\n",
    "urut = nim[7:]\n",
    "\n",
    "#FString\n",
    "print(f\"Tahun Masuk : {tahun}\")\n",
    "print(f\"Prodi Anda : {prodi}\")"
   ]
  },
  {
   "cell_type": "markdown",
   "id": "884c2abc-a0f1-4b01-a3ff-36c03c123706",
   "metadata": {},
   "source": [
    "kalimat = \"Belajar Python itu mudah\"\n",
    "kata = kalimat.split(' ')\n",
    "print = (kata[0])\n",
    "print = (kata[1])\n",
    "print = (kata[2])\n",
    "print = (kata[3])\n",
    "\n"
   ]
  },
  {
   "cell_type": "code",
   "execution_count": 75,
   "id": "fcc71752-6d1b-42da-bb0d-4484ef0e24f0",
   "metadata": {},
   "outputs": [
    {
     "ename": "TypeError",
     "evalue": "'str' object is not callable",
     "output_type": "error",
     "traceback": [
      "\u001b[1;31m---------------------------------------------------------------------------\u001b[0m",
      "\u001b[1;31mTypeError\u001b[0m                                 Traceback (most recent call last)",
      "Cell \u001b[1;32mIn[75], line 3\u001b[0m\n\u001b[0;32m      1\u001b[0m \u001b[38;5;66;03m#find\u001b[39;00m\n\u001b[0;32m      2\u001b[0m platMotor \u001b[38;5;241m=\u001b[39m \u001b[38;5;124m\"\u001b[39m\u001b[38;5;124mF9876WE\u001b[39m\u001b[38;5;124m\"\u001b[39m\n\u001b[1;32m----> 3\u001b[0m \u001b[38;5;28mprint\u001b[39m(platMotor\u001b[38;5;241m.\u001b[39mfind(\u001b[38;5;124m\"\u001b[39m\u001b[38;5;124mF\u001b[39m\u001b[38;5;124m\"\u001b[39m))\n",
      "\u001b[1;31mTypeError\u001b[0m: 'str' object is not callable"
     ]
    }
   ],
   "source": [
    "\n"
   ]
  },
  {
   "cell_type": "code",
   "execution_count": null,
   "id": "c8426ae6-e836-4954-a36a-8a2ded755a4d",
   "metadata": {},
   "outputs": [],
   "source": []
  },
  {
   "cell_type": "code",
   "execution_count": null,
   "id": "993ac427-9119-42bd-a6dc-f2abff5a3025",
   "metadata": {},
   "outputs": [],
   "source": []
  }
 ],
 "metadata": {
  "kernelspec": {
   "display_name": "Python [conda env:base] *",
   "language": "python",
   "name": "conda-base-py"
  },
  "language_info": {
   "codemirror_mode": {
    "name": "ipython",
    "version": 3
   },
   "file_extension": ".py",
   "mimetype": "text/x-python",
   "name": "python",
   "nbconvert_exporter": "python",
   "pygments_lexer": "ipython3",
   "version": "3.12.7"
  }
 },
 "nbformat": 4,
 "nbformat_minor": 5
}
