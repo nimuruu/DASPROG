{
 "cells": [
  {
   "cell_type": "markdown",
   "id": "e671e5dd-9425-4fa0-bbb6-9b86e007e8a2",
   "metadata": {},
   "source": [
    "<center>\n",
    "<img src=\"https://logos-world.net/wp-content/uploads/2022/07/Hololive-2017-Logo.png\" width=\"200\">\n",
    "</center>\n",
    "<hr>\n",
    "test"
   ]
  }
 ],
 "metadata": {
  "kernelspec": {
   "display_name": "Python [conda env:base] *",
   "language": "python",
   "name": "conda-base-py"
  },
  "language_info": {
   "codemirror_mode": {
    "name": "ipython",
    "version": 3
   },
   "file_extension": ".py",
   "mimetype": "text/x-python",
   "name": "python",
   "nbconvert_exporter": "python",
   "pygments_lexer": "ipython3",
   "version": "3.12.7"
  }
 },
 "nbformat": 4,
 "nbformat_minor": 5
}
