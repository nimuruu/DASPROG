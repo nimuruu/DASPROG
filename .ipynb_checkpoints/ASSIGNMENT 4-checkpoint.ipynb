{
 "cells": [
  {
   "cell_type": "markdown",
   "id": "7e96488c-e396-42cb-9be7-665e7c4a8fc0",
   "metadata": {},
   "source": [
    "<h1>Operator Aritmatika:</h1>"
   ]
  },
  {
   "cell_type": "code",
   "execution_count": 58,
   "id": "30713531-0bb7-4630-8413-4be031dadd96",
   "metadata": {},
   "outputs": [
    {
     "name": "stdout",
     "output_type": "stream",
     "text": [
      "Jumlah Apel Budi adalah: 12 , Budi membaginya kepada: 4 teman\n",
      "maka hasilnya yaitu: 12 Dibagi(/) 4 maka hasilnya ialah: 3\n",
      "=======================================================\n",
      "Budi mendapatkan apel tambahan yaitu: 8 , maka: 12 + 8 = 20 apel\n"
     ]
    }
   ],
   "source": [
    "totalapel = 12\n",
    "totalteman = 4\n",
    "apeltambah = 8\n",
    "\n",
    "hasilbagi = totalapel // totalteman\n",
    "print(\"Jumlah Apel Budi adalah:\", totalapel, \", Budi membaginya kepada:\", totalteman, \"teman\")\n",
    "print(\"maka hasilnya yaitu:\", totalapel, \"Dibagi(/)\", totalteman, \"maka hasilnya ialah:\", hasilbagi)\n",
    "\n",
    "print(\"=======================================================\")\n",
    "\n",
    "hasilapel = totalapel + apeltambah\n",
    "print(\"Budi mendapatkan apel tambahan yaitu:\", apeltambah, \", maka:\", totalapel, \"+\", apeltambah, \"=\", hasilapel, \"apel\")"
   ]
  },
  {
   "cell_type": "markdown",
   "id": "a17c5c13-a0f3-4f47-ad6b-c6b6e229ae02",
   "metadata": {},
   "source": [
    "<h1>Operator Perbandingan:</h1>"
   ]
  },
  {
   "cell_type": "code",
   "execution_count": 19,
   "id": "1bd605e8-0fe1-462c-9a29-3761782b8612",
   "metadata": {},
   "outputs": [
    {
     "name": "stdout",
     "output_type": "stream",
     "text": [
      "tinggi Siti adalah: 160 cm\n",
      "tinggi Andi adalah: 165 cm\n",
      "=======================================================\n",
      "Cari selisih tinggi: 165 (andi)cm - 160 (siti)cm = 5 cm\n",
      "=======================================================\n",
      "Selisih tinggi dari Andi & Siti adalah: 5 cm\n",
      "maka Andi lebih tinggi dari Siti sebanyak: 5 cm\n"
     ]
    }
   ],
   "source": [
    "siti = 160\n",
    "andi = 165\n",
    "\n",
    "print(\"tinggi Siti adalah:\", siti, \"cm\")\n",
    "print(\"tinggi Andi adalah:\", andi, \"cm\")\n",
    "print(\"=======================================================\")\n",
    "hasilselisih = andi - siti\n",
    "print(\"Cari selisih tinggi:\", andi, \"(andi)cm -\", siti, \"(siti)cm =\", hasilselisih, \"cm\")\n",
    "print(\"=======================================================\")\n",
    "print(\"Selisih tinggi dari Andi & Siti adalah:\", hasilselisih, \"cm\")\n",
    "print(\"maka Andi lebih tinggi dari Siti sebanyak:\", hasilselisih, \"cm\")"
   ]
  },
  {
   "cell_type": "markdown",
   "id": "fcdfd69e-6cb6-42d7-a372-664080e44f51",
   "metadata": {},
   "source": [
    "<h1>Operator Logika:</h1>"
   ]
  },
  {
   "cell_type": "code",
   "execution_count": 22,
   "id": "290a48ec-012b-4102-9859-2b4d83acb35b",
   "metadata": {},
   "outputs": [
    {
     "name": "stdin",
     "output_type": "stream",
     "text": [
      "Bagaimana cuaca hari ini? (cerah/tidak) tidak\n",
      "Apakah PR selesai? (selesai/tidak) tidak\n"
     ]
    },
    {
     "name": "stdout",
     "output_type": "stream",
     "text": [
      "Budi tidak bisa bermain\n"
     ]
    }
   ],
   "source": [
    "premis1 = input(\"Bagaimana cuaca hari ini? (cerah/tidak)\")\n",
    "premis1final = premis1.lower()\n",
    "premis2 = input(\"Apakah PR selesai? (selesai/tidak)\")\n",
    "premis2final = premis2.lower()\n",
    "if (premis1final == \"cerah\" and premis2final == \"selesai\"):\n",
    "    print(\"Budi Bisa Bermain\")\n",
    "else:\n",
    "    print(\"Budi tidak bisa bermain\")"
   ]
  },
  {
   "cell_type": "markdown",
   "id": "5b123d11-8586-4474-9233-efbcf836faed",
   "metadata": {},
   "source": [
    "<h1>OPERATOR BITWISE</h1>"
   ]
  },
  {
   "cell_type": "code",
   "execution_count": 25,
   "id": "e4c748f2-e5d1-43e0-a6ad-38662f07871d",
   "metadata": {},
   "outputs": [
    {
     "name": "stdout",
     "output_type": "stream",
     "text": [
      "0b110\n",
      "0b11\n",
      "0b10 = 2\n",
      "====================\n",
      "0b110\n",
      "0b11\n",
      "0b111 = 7\n",
      "====================\n",
      "0b110\n",
      "0b11\n",
      "0b101 = 5\n"
     ]
    }
   ],
   "source": [
    "num1 = 6\n",
    "num2 = 3\n",
    "bAnd = num1&num2\n",
    "print(bin(num1))\n",
    "print(bin(num2))\n",
    "print(bin(bAnd),\"=\",bAnd)\n",
    "print(\"====================\")\n",
    "bOr = num1|num2\n",
    "print(bin(num1))\n",
    "print(bin(num2))\n",
    "print(bin(bOr),\"=\",bOr)\n",
    "print(\"====================\")\n",
    "bXOr = num1^num2\n",
    "print(bin(num1))\n",
    "print(bin(num2))\n",
    "print(bin(bXOr),\"=\",bXOr)"
   ]
  },
  {
   "cell_type": "markdown",
   "id": "37f51a77-3e82-4e47-9b1e-6fe7d3bf4402",
   "metadata": {},
   "source": [
    "<h1>Operator Penugasan:</h1>"
   ]
  },
  {
   "cell_type": "code",
   "execution_count": 30,
   "id": "22cef90b-2d59-4af9-b2c1-375e50fa269d",
   "metadata": {},
   "outputs": [
    {
     "name": "stdout",
     "output_type": "stream",
     "text": [
      "Siswa memeliki Pulsa sebanyak: 50000\n",
      "Siswa Meengisi ulang 20000 menjadi: 70000\n",
      "Siswa membeli paket dengan harga: 30000 menjadi: 40000\n"
     ]
    }
   ],
   "source": [
    "pulsa = 50000\n",
    "isiulang = 20000\n",
    "paket = 30000\n",
    "\n",
    "print(\"Siswa memeliki Pulsa sebanyak:\", pulsa)\n",
    "hasilpulsa = pulsa + isiulang\n",
    "print(\"Siswa Meengisi ulang\", isiulang, \"menjadi:\", hasilpulsa)\n",
    "hasilakhir = hasilpulsa - paket\n",
    "print(\"Siswa membeli paket dengan harga:\", paket, \"menjadi:\", hasilakhir)\n"
   ]
  },
  {
   "cell_type": "markdown",
   "id": "e980aeb5-d1d4-4063-934d-48fc58b23b45",
   "metadata": {},
   "source": [
    "<h1>Operator Keanggotaan:</h1>"
   ]
  },
  {
   "cell_type": "code",
   "execution_count": 33,
   "id": "22d49035-14a2-4143-9356-c02fe782dd90",
   "metadata": {},
   "outputs": [
    {
     "name": "stdin",
     "output_type": "stream",
     "text": [
      "Masukan anggota: eka\n"
     ]
    },
    {
     "name": "stdout",
     "output_type": "stream",
     "text": [
      "PESERTA TIDAK ADA DALAM LIST\n"
     ]
    }
   ],
   "source": [
    "peserta = [\"andi\", \"budi\", \"citra\", \"dewi\"]\n",
    "findpeserta = input(\"Masukan anggota:\")\n",
    "findpesertakecil = findpeserta.lower()\n",
    "if findpesertakecil in peserta:\n",
    "    print(\"PESERTA ADA DALAM LIST\")\n",
    "else:\n",
    "    print(\"PESERTA TIDAK ADA DALAM LIST\")"
   ]
  },
  {
   "cell_type": "code",
   "execution_count": 35,
   "id": "6fec07c9-0ad2-4a65-a535-2083f17daf57",
   "metadata": {},
   "outputs": [
    {
     "name": "stdout",
     "output_type": "stream",
     "text": [
      "Apakah kata Python Ada dalam kalimat Saya Suka Belajar Python ?\n",
      "Kata Python ada dalam kalimat\n"
     ]
    }
   ],
   "source": [
    "kalimat = \"Saya Suka Belajar Python\"\n",
    "cek = \"Python\"\n",
    "print(\"Apakah kata\",cek,\"Ada dalam kalimat\",kalimat,\"?\")\n",
    "if cek in kalimat:\n",
    "    print(\"Kata\",cek,\"ada dalam kalimat\")\n",
    "else:\n",
    "    print(\"Kata\",cek,\"tidak ada dalam kalimat\")"
   ]
  },
  {
   "cell_type": "markdown",
   "id": "931128df-07d3-4930-867a-03ea83db533b",
   "metadata": {},
   "source": [
    "<h1>Operator Identitas:</h1>"
   ]
  },
  {
   "cell_type": "code",
   "execution_count": 38,
   "id": "704aeefa-1fc7-42e0-9e03-2991d0b37e54",
   "metadata": {},
   "outputs": [
    {
     "name": "stdout",
     "output_type": "stream",
     "text": [
      "apakah X = Y? True\n"
     ]
    }
   ],
   "source": [
    "x = 1\n",
    "y = 1\n",
    "print(\"apakah X = Y?\", x is y)"
   ]
  },
  {
   "cell_type": "code",
   "execution_count": 40,
   "id": "3aac9fa5-0e5f-4167-ab5d-646d779bfc68",
   "metadata": {},
   "outputs": [
    {
     "name": "stdout",
     "output_type": "stream",
     "text": [
      "List pertama: ['anby', 'billy', 'nicole']\n",
      "List kedua: ['anby', 'billy', 'nicole']\n",
      "Apakah list1 dengan list2 sama? False\n",
      "Apakah nilai list1 dengan list2 sama? True\n"
     ]
    }
   ],
   "source": [
    "list1 = [\"anby\", \"billy\", \"nicole\"]\n",
    "list2 = [\"anby\", \"billy\", \"nicole\"]\n",
    "print(\"List pertama:\",list1)\n",
    "print(\"List kedua:\",list2)\n",
    "print(\"Apakah list1 dengan list2 sama?\",list1 is list2)\n",
    "print(\"Apakah nilai list1 dengan list2 sama?\",list1 == list2)"
   ]
  },
  {
   "cell_type": "markdown",
   "id": "51e76bf9-59f8-4c18-ac2d-5be661273b92",
   "metadata": {},
   "source": [
    "<h1>Operator Ternary:</h1>"
   ]
  },
  {
   "cell_type": "code",
   "execution_count": 51,
   "id": "8d45dda3-e7f5-4ab8-8d0b-ce43b1461fa8",
   "metadata": {},
   "outputs": [
    {
     "name": "stdin",
     "output_type": "stream",
     "text": [
      "masukan angka: 100\n"
     ]
    },
    {
     "name": "stdout",
     "output_type": "stream",
     "text": [
      "100 nilai lebih kecil dari (100)\n"
     ]
    }
   ],
   "source": [
    "angka = int(input(\"masukan angka:\"))\n",
    "hasil = \"nilai lebih besar dari (100)\" if angka > 100 else \"nilai lebih kecil dari (100)\"\n",
    "print(angka, hasil)"
   ]
  },
  {
   "cell_type": "code",
   "execution_count": 55,
   "id": "e99db6bb-cc7d-48c4-92ee-7b87cbfc5853",
   "metadata": {},
   "outputs": [
    {
     "name": "stdin",
     "output_type": "stream",
     "text": [
      "masukan nilai 40\n"
     ]
    },
    {
     "name": "stdout",
     "output_type": "stream",
     "text": [
      "40 anda TIDAK LULUS\n"
     ]
    }
   ],
   "source": [
    "nilai = int(input(\"masukan nilai\"))\n",
    "\n",
    "hasil = \"anda LULUS\" if nilai >= 70 else \"anda TIDAK LULUS\"\n",
    "print(nilai, hasil)"
   ]
  },
  {
   "cell_type": "code",
   "execution_count": null,
   "id": "24bdffd2-290b-49d5-80a5-ad3876554ff7",
   "metadata": {},
   "outputs": [],
   "source": []
  }
 ],
 "metadata": {
  "kernelspec": {
   "display_name": "Python [conda env:base] *",
   "language": "python",
   "name": "conda-base-py"
  },
  "language_info": {
   "codemirror_mode": {
    "name": "ipython",
    "version": 3
   },
   "file_extension": ".py",
   "mimetype": "text/x-python",
   "name": "python",
   "nbconvert_exporter": "python",
   "pygments_lexer": "ipython3",
   "version": "3.12.7"
  }
 },
 "nbformat": 4,
 "nbformat_minor": 5
}
