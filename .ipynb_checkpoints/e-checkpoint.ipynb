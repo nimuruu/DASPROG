{
 "cells": [
  {
   "cell_type": "code",
   "execution_count": null,
   "id": "3369b8d2-6597-4dc0-b69a-ac5d6cf204ad",
   "metadata": {},
   "outputs": [],
   "source": [
    "deko"
   ]
  }
 ],
 "metadata": {
  "kernelspec": {
   "display_name": "Python [conda env:base] *",
   "language": "python",
   "name": "conda-base-py"
  },
  "language_info": {
   "codemirror_mode": {
    "name": "ipython",
    "version": 3
   },
   "file_extension": ".py",
   "mimetype": "text/x-python",
   "name": "python",
   "nbconvert_exporter": "python",
   "pygments_lexer": "ipython3",
   "version": "3.12.7"
  }
 },
 "nbformat": 4,
 "nbformat_minor": 5
}
