{
 "cells": [
  {
   "cell_type": "code",
   "execution_count": null,
   "id": "06384d7d-d069-4f2a-b7d1-6ac9864f33f7",
   "metadata": {},
   "outputs": [
    {
     "name": "stdout",
     "output_type": "stream",
     "text": [
      "\n",
      "        Menu Manajemen Data Mahasiswa\n",
      "        =============================\n",
      "        1. Tambah Mahasiswa\n",
      "        2. Tampilkan Seluruh Mahasiswa\n",
      "        3. Cari Mahasiswa\n",
      "        4. Update IPK Mahasiswa\n",
      "        5. Hapus Mahasiswa\n",
      "        6. Keluar\n",
      "        \n"
     ]
    },
    {
     "name": "stdin",
     "output_type": "stream",
     "text": [
      "Pilihan (1-6):  1\n"
     ]
    },
    {
     "name": "stdout",
     "output_type": "stream",
     "text": [
      "\n",
      "Tambah Mahasiswa Baru\n"
     ]
    },
    {
     "name": "stdin",
     "output_type": "stream",
     "text": [
      "Masukkan NIM:  1\n",
      "Masukkan Nama:  Anby Demara\n",
      "Masukkan Jurusan:  Teknik Informatika\n",
      "Masukkan IPK:  3.7\n"
     ]
    },
    {
     "name": "stdout",
     "output_type": "stream",
     "text": [
      "Data berhasil ditambahkan.\n",
      "\n",
      "        Menu Manajemen Data Mahasiswa\n",
      "        =============================\n",
      "        1. Tambah Mahasiswa\n",
      "        2. Tampilkan Seluruh Mahasiswa\n",
      "        3. Cari Mahasiswa\n",
      "        4. Update IPK Mahasiswa\n",
      "        5. Hapus Mahasiswa\n",
      "        6. Keluar\n",
      "        \n"
     ]
    },
    {
     "name": "stdin",
     "output_type": "stream",
     "text": [
      "Pilihan (1-6):  1\n"
     ]
    },
    {
     "name": "stdout",
     "output_type": "stream",
     "text": [
      "\n",
      "Tambah Mahasiswa Baru\n"
     ]
    },
    {
     "name": "stdin",
     "output_type": "stream",
     "text": [
      "Masukkan NIM:  2\n",
      "Masukkan Nama:  Nicole Demara\n",
      "Masukkan Jurusan:  \n",
      "Masukkan IPK:  3.8\n"
     ]
    },
    {
     "name": "stdout",
     "output_type": "stream",
     "text": [
      "Data berhasil ditambahkan.\n",
      "\n",
      "        Menu Manajemen Data Mahasiswa\n",
      "        =============================\n",
      "        1. Tambah Mahasiswa\n",
      "        2. Tampilkan Seluruh Mahasiswa\n",
      "        3. Cari Mahasiswa\n",
      "        4. Update IPK Mahasiswa\n",
      "        5. Hapus Mahasiswa\n",
      "        6. Keluar\n",
      "        \n"
     ]
    },
    {
     "name": "stdin",
     "output_type": "stream",
     "text": [
      "Pilihan (1-6):  2\n"
     ]
    },
    {
     "name": "stdout",
     "output_type": "stream",
     "text": [
      "\n",
      "Daftar Seluruh Mahasiswa\n",
      "NIM: 1, Nama: Anby Demara, Jurusan: Teknik Informatika, IPK: 3.70\n",
      "NIM: 2, Nama: Nicole Demara, Jurusan: , IPK: 3.80\n",
      "\n",
      "        Menu Manajemen Data Mahasiswa\n",
      "        =============================\n",
      "        1. Tambah Mahasiswa\n",
      "        2. Tampilkan Seluruh Mahasiswa\n",
      "        3. Cari Mahasiswa\n",
      "        4. Update IPK Mahasiswa\n",
      "        5. Hapus Mahasiswa\n",
      "        6. Keluar\n",
      "        \n"
     ]
    }
   ],
   "source": [
    "data_mahasiswa = {}\n",
    "\n",
    "def tambah_mahasiswa():\n",
    "    print(\"\\nTambah Mahasiswa Baru\")\n",
    "    nim = input(\"Masukkan NIM: \")\n",
    "    \n",
    "    if nim in data_mahasiswa:\n",
    "        print(\"NIM sudah terdaftar.\")\n",
    "        return\n",
    "    \n",
    "    nama = input(\"Masukkan Nama: \")\n",
    "    jurusan = input(\"Masukkan Jurusan: \")\n",
    "    ipk = float(input(\"Masukkan IPK: \"))\n",
    "    \n",
    "    data_mahasiswa[nim] = (nama, jurusan, ipk)\n",
    "    print(\"Data berhasil ditambahkan.\")\n",
    "\n",
    "def tampilkan_semua():\n",
    "    print(\"\\nDaftar Seluruh Mahasiswa\")\n",
    "    if not data_mahasiswa:\n",
    "        print(\"Belum ada data mahasiswa.\")\n",
    "        return\n",
    "    \n",
    "    for nim, data in data_mahasiswa.items():\n",
    "        nama, jurusan, ipk = data\n",
    "        print(f\"NIM: {nim}, Nama: {nama}, Jurusan: {jurusan}, IPK: {ipk:.2f}\")\n",
    "\n",
    "def cari_mahasiswa():\n",
    "    print(\"\\nCari Mahasiswa\")\n",
    "    nim = input(\"Masukkan NIM: \")\n",
    "    \n",
    "    if nim in data_mahasiswa:\n",
    "        nama, jurusan, ipk = data_mahasiswa[nim]\n",
    "        print(f\"Data ditemukan:\")\n",
    "        print(f\"NIM: {nim}, Nama: {nama}, Jurusan: {jurusan}, IPK: {ipk:.2f}\")\n",
    "    else:\n",
    "        print(\"Mahasiswa dengan NIM tersebut tidak ditemukan.\")\n",
    "\n",
    "def update_ipk():\n",
    "    print(\"\\nUpdate IPK Mahasiswa\")\n",
    "    nim = input(\"Masukkan NIM mahasiswa: \")\n",
    "    \n",
    "    if nim in data_mahasiswa:\n",
    "        nama, jurusan, ipk_lama = data_mahasiswa[nim]\n",
    "        print(f\"IPK saat ini: {ipk_lama:.2f}\")\n",
    "        ipk_baru = float(input(\"Masukkan IPK baru: \"))\n",
    "        \n",
    "        data_mahasiswa[nim] = (nama, jurusan, ipk_baru)\n",
    "        print(\"IPK berhasil diperbarui.\")\n",
    "    else:\n",
    "        print(\"Mahasiswa dengan NIM tersebut tidak ditemukan.\")\n",
    "\n",
    "def hapus_mahasiswa():\n",
    "    print(\"\\nHapus Data Mahasiswa\")\n",
    "    nim = input(\"Masukkan NIM mahasiswa yang akan dihapus: \")\n",
    "    \n",
    "    if nim in data_mahasiswa:\n",
    "        del data_mahasiswa[nim]\n",
    "        print(\"Data mahasiswa berhasil dihapus.\")\n",
    "    else:\n",
    "        print(\"Mahasiswa dengan NIM tersebut tidak ditemukan.\")\n",
    "\n",
    "def main():\n",
    "    while True:\n",
    "        print(\"\"\"\n",
    "        Menu Manajemen Data Mahasiswa\n",
    "        =============================\n",
    "        1. Tambah Mahasiswa\n",
    "        2. Tampilkan Seluruh Mahasiswa\n",
    "        3. Cari Mahasiswa\n",
    "        4. Update IPK Mahasiswa\n",
    "        5. Hapus Mahasiswa\n",
    "        6. Keluar\n",
    "        \"\"\")\n",
    "        \n",
    "        pilihan = input(\"Pilihan (1-6): \")\n",
    "        \n",
    "        if pilihan == '1':\n",
    "            tambah_mahasiswa()\n",
    "        elif pilihan == '2':\n",
    "            tampilkan_semua()\n",
    "        elif pilihan == '3':\n",
    "            cari_mahasiswa()\n",
    "        elif pilihan == '4':\n",
    "            update_ipk()\n",
    "        elif pilihan == '5':\n",
    "            hapus_mahasiswa()\n",
    "        elif pilihan == '6':\n",
    "            print(\"Terima kasih.\")\n",
    "            break\n",
    "        else:\n",
    "            print(\"Pilihan tidak valid. Masukkan angka 1-6.\")\n",
    "\n",
    "if __name__ == \"__main__\":\n",
    "    main()\n",
    "        \n",
    " "
   ]
  },
  {
   "cell_type": "code",
   "execution_count": null,
   "id": "4d0f5d7f-53b2-421b-a87c-fcbf57debd37",
   "metadata": {},
   "outputs": [],
   "source": []
  }
 ],
 "metadata": {
  "kernelspec": {
   "display_name": "Python [conda env:base] *",
   "language": "python",
   "name": "conda-base-py"
  },
  "language_info": {
   "codemirror_mode": {
    "name": "ipython",
    "version": 3
   },
   "file_extension": ".py",
   "mimetype": "text/x-python",
   "name": "python",
   "nbconvert_exporter": "python",
   "pygments_lexer": "ipython3",
   "version": "3.12.7"
  }
 },
 "nbformat": 4,
 "nbformat_minor": 5
}
