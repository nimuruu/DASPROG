{
 "cells": [
  {
   "cell_type": "markdown",
   "id": "e0fa1015-e08d-4318-bc42-7746f10567f7",
   "metadata": {},
   "source": [
    "<h1>Tipe Data dan Operasi Dasar</h1>"
   ]
  },
  {
   "cell_type": "code",
   "execution_count": 2,
   "id": "32e9f3fa-f8ff-4e5d-83d1-016fc48d1e63",
   "metadata": {},
   "outputs": [
    {
     "name": "stdin",
     "output_type": "stream",
     "text": [
      "Masukan nama anda: Anby\n",
      "Masukan usia anda: 23\n",
      "Masukan tinggi anda: 156\n"
     ]
    },
    {
     "name": "stdout",
     "output_type": "stream",
     "text": [
      "Halo, Anby! usia anda adalah 23 tahun dan tinggi badan anda adalah 156\n"
     ]
    }
   ],
   "source": [
    "nama = input(\"Masukan nama anda:\")\n",
    "usia = int(input(\"Masukan usia anda:\"))\n",
    "tinggi = int(input(\"Masukan tinggi anda:\"))\n",
    "\n",
    "print(f\"Halo, {nama}! usia anda adalah {usia} tahun dan tinggi badan anda adalah {tinggi}\")"
   ]
  },
  {
   "cell_type": "markdown",
   "id": "4750d055-552c-4813-a697-af4be8b261ca",
   "metadata": {},
   "source": [
    "<h1>Percabangan (if/else)</h1>"
   ]
  },
  {
   "cell_type": "code",
   "execution_count": 16,
   "id": "ba9136be-83f5-4d1f-b76a-c474671a3b45",
   "metadata": {},
   "outputs": [
    {
     "name": "stdin",
     "output_type": "stream",
     "text": [
      "Masukan nilai (0 - 100): 67\n"
     ]
    },
    {
     "name": "stdout",
     "output_type": "stream",
     "text": [
      "Nilai anda adalah: C\n"
     ]
    }
   ],
   "source": [
    "nilai = int(input(\"Masukan nilai (0 - 100):\"))\n",
    "\n",
    "if nilai > 100 :\n",
    "    grade = \"Nilai tidak valid\"\n",
    "\n",
    "elif nilai >= 85 :\n",
    "    grade = \"A\"\n",
    "\n",
    "elif nilai >= 70 :\n",
    "    grade = \"B\"\n",
    "\n",
    "elif nilai >= 55 :\n",
    "    grade = \"C\"\n",
    "\n",
    "elif nilai >= 40 :\n",
    "    grade = \"D\"\n",
    "\n",
    "elif nilai <= 40 :\n",
    "    grade = \"E\"\n",
    "\n",
    "else :\n",
    "    grade = \"Nilai tida valid\"\n",
    "\n",
    "print(f\"Nilai anda adalah: {grade}\")"
   ]
  },
  {
   "cell_type": "markdown",
   "id": "c37d4559-c8b6-4d83-bf25-537c279bc170",
   "metadata": {},
   "source": [
    "<h1>Perulangan dan List</h1>"
   ]
  },
  {
   "cell_type": "code",
   "execution_count": 21,
   "id": "d745256a-ac7e-4793-acd4-998820d03a4e",
   "metadata": {},
   "outputs": [
    {
     "name": "stdin",
     "output_type": "stream",
     "text": [
      "Masukan angka ke-1:  1\n",
      "Masukan angka ke-2:  2\n",
      "Masukan angka ke-3:  3\n",
      "Masukan angka ke-4:  4\n",
      "Masukan angka ke-5:  5\n"
     ]
    },
    {
     "name": "stdout",
     "output_type": "stream",
     "text": [
      "Total: 15\n",
      "Rata - rata: 3.0\n",
      "Tertinggi: 5\n",
      "Terkecil: 1\n"
     ]
    }
   ],
   "source": [
    "angka = []\n",
    "\n",
    "for i in range(5) :\n",
    "    angka_input = int(input(f\"Masukan angka ke-{i+1}: \"))\n",
    "    angka.append(angka_input)\n",
    "\n",
    "total = sum(angka)\n",
    "rata2 = total / len(angka)\n",
    "tertinggi = max(angka)\n",
    "terkecil = min(angka)\n",
    "\n",
    "print(f\"Total: {total}\")\n",
    "print(f\"Rata - rata: {rata2}\")\n",
    "print(f\"Tertinggi: {tertinggi}\")\n",
    "print(f\"Terkecil: {terkecil}\")"
   ]
  },
  {
   "cell_type": "markdown",
   "id": "ce07988c-8b0b-4b9f-96e9-7c049e4f2b89",
   "metadata": {},
   "source": [
    "<h1>Dictionary dan Rata-rata Nilai</h1>"
   ]
  },
  {
   "cell_type": "code",
   "execution_count": 32,
   "id": "f3e80dec-68d9-442a-b832-334205de0d3a",
   "metadata": {},
   "outputs": [
    {
     "name": "stdin",
     "output_type": "stream",
     "text": [
      "Masukan mata pelajaran ke-1: MTK\n",
      "Masukan nilai untu MTK: 40\n",
      "Masukan mata pelajaran ke-2: ALJABAR\n",
      "Masukan nilai untu ALJABAR: 50\n",
      "Masukan mata pelajaran ke-3: DISKRIT\n",
      "Masukan nilai untu DISKRIT: 60\n"
     ]
    },
    {
     "name": "stdout",
     "output_type": "stream",
     "text": [
      "\n",
      "Daftar nilai mata kuliah:\n",
      "MTK: 40\n",
      "ALJABAR: 50\n",
      "DISKRIT: 60\n"
     ]
    }
   ],
   "source": [
    "nilai_mk = {}\n",
    "\n",
    "for i in range(3) :\n",
    "    mk = input(f\"Masukan mata pelajaran ke-{i+1}:\")\n",
    "    nilai = int(input(f\"Masukan nilai untu {mk}:\"))\n",
    "    nilai_mk[mk] = nilai\n",
    "\n",
    "print(\"\\nDaftar nilai mata kuliah:\")\n",
    "for mk, nilai in nilai_mk.items() :\n",
    "    print(f\"{mk}: {nilai}\")"
   ]
  },
  {
   "cell_type": "code",
   "execution_count": null,
   "id": "f89daf5b-3957-45ab-8c6c-29526fe1ac90",
   "metadata": {},
   "outputs": [],
   "source": []
  }
 ],
 "metadata": {
  "kernelspec": {
   "display_name": "Python [conda env:base] *",
   "language": "python",
   "name": "conda-base-py"
  },
  "language_info": {
   "codemirror_mode": {
    "name": "ipython",
    "version": 3
   },
   "file_extension": ".py",
   "mimetype": "text/x-python",
   "name": "python",
   "nbconvert_exporter": "python",
   "pygments_lexer": "ipython3",
   "version": "3.12.7"
  }
 },
 "nbformat": 4,
 "nbformat_minor": 5
}
