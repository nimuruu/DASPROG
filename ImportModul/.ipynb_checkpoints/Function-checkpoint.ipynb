{
 "cells": [
  {
   "cell_type": "code",
   "execution_count": 17,
   "id": "4eefba79-2eff-45c0-95e9-3f62727f8372",
   "metadata": {},
   "outputs": [
    {
     "name": "stdout",
     "output_type": "stream",
     "text": [
      "2025-05-23\n",
      "Today is Work Day\n",
      "4\n"
     ]
    }
   ],
   "source": [
    "#function tanpa parameter\n",
    "import datetime\n",
    "def showDate():\n",
    "    today = datetime.date.today()\n",
    "    print(today)\n",
    "\n",
    "def isWeekday():\n",
    "    day = datetime.date.today().weekday()\n",
    "    if day >= 5:\n",
    "        print(\"Today is Weekend\")\n",
    "    else:\n",
    "        print(\"Today is Work Day\")\n",
    "    \n",
    "showDate()\n",
    "isWeekday()"
   ]
  },
  {
   "cell_type": "code",
   "execution_count": 15,
   "id": "e9521875-a38c-4e39-bbd2-da023d1a88ad",
   "metadata": {},
   "outputs": [
    {
     "name": "stdout",
     "output_type": "stream",
     "text": [
      "Anby 'Silver Soldier' Demara,S.Kom\n"
     ]
    }
   ],
   "source": [
    "#Function dengan parameter\n",
    "def getFullName(first,middle,last):\n",
    "    return f\"{first} {middle} {last},S.Kom\"\n",
    "\n",
    "print(getFullName(\"Anby\", \"'Silver Soldier'\", \"Demara\"))"
   ]
  },
  {
   "cell_type": "code",
   "execution_count": 27,
   "id": "713b78b7-19c9-42c1-8b5d-7da1fff0f7ae",
   "metadata": {},
   "outputs": [
    {
     "name": "stdout",
     "output_type": "stream",
     "text": [
      "Hasil Penjumlahan:15\n",
      "Hasil Perkalian:50\n",
      "Penjumlahan 3 dan 5: 15\n",
      "Perkalian 4 dan 5: 20\n",
      "Penjumlahan 15 dan 20: 35\n"
     ]
    }
   ],
   "source": [
    "def addNumber(num1,num2):\n",
    "    return num1 + num2\n",
    "\n",
    "def multiply(num1,num2):\n",
    "    return num1 * num2\n",
    "\n",
    "def aritMat(num1,num2):\n",
    "    add = num1 + num2\n",
    "    multiply = num1 * num2\n",
    "    return add,multiply\n",
    "    \n",
    "r1 = addNumber(5,10)\n",
    "r2 = multiply(4,5)\n",
    "r3 = addNumber(r1,r2)\n",
    "\n",
    "r4,r5 = aritMat(10,5)\n",
    "print(f\"Hasil Penjumlahan:{r4}\")\n",
    "print(f\"Hasil Perkalian:{r5}\")\n",
    "\n",
    "print(f\"Penjumlahan 3 dan 5: {r1}\")\n",
    "print(f\"Perkalian 4 dan 5: {r2}\")\n",
    "print(f\"Penjumlahan {r1} dan {r2}: {r3}\")"
   ]
  },
  {
   "cell_type": "code",
   "execution_count": 23,
   "id": "4ccbcce6-3ad1-4cc4-849f-d58cd5fd16ab",
   "metadata": {},
   "outputs": [
    {
     "name": "stdout",
     "output_type": "stream",
     "text": [
      "Registration is successfull\n",
      "Username:Anby\n",
      "Password:123\n",
      "Status:False\n",
      "Role:aku atmin\n",
      "\n"
     ]
    }
   ],
   "source": [
    "#Function dengan nilai default\n",
    "def userReg(username,password,status=False,role=\"user\"):\n",
    "    result =  \"Registration is successfull\\n\"\n",
    "    result += f\"Username:{username}\\n\"\n",
    "    result += f\"Password:{password}\\n\"\n",
    "    result += f\"Status:{status}\\n\"\n",
    "    result += f\"Role:{role}\\n\"\n",
    "    return result\n",
    "\n",
    "print(userReg(\"Anby\",\"123\",role=\"aku atmin\"))"
   ]
  },
  {
   "cell_type": "code",
   "execution_count": 41,
   "id": "f8f46783-cea1-4038-8c2a-0f4ed1b87d54",
   "metadata": {},
   "outputs": [
    {
     "name": "stdout",
     "output_type": "stream",
     "text": [
      "Mon\n",
      "{'name': 'Anby', 'birth': '17/08/45'}\n",
      "Anby\n",
      "17/08/45\n"
     ]
    }
   ],
   "source": [
    "def printData(*arg,**kwarg):\n",
    "    return arg,kwarg\n",
    "\n",
    "arg,kwarg = printData(\"Mon\", \"Tue\", \"Wed\",name=\"Anby\",birth=\"17/08/45\")\n",
    "print(arg[0])\n",
    "print(kwarg)\n",
    "\n",
    "for i in kwarg.items():\n",
    "    print(i[1])"
   ]
  },
  {
   "cell_type": "code",
   "execution_count": 47,
   "id": "16dc6554-efb6-46d9-9d55-55b337e4f160",
   "metadata": {},
   "outputs": [
    {
     "name": "stdout",
     "output_type": "stream",
     "text": [
      "15\n",
      "120\n"
     ]
    }
   ],
   "source": [
    "#Buatlah function untuk menjumlahkan semua nilai yang ada di parameter\n",
    "\n",
    "def math(*arg,**kwarg):\n",
    "    if kwarg[\"operator\"] == \"+\":\n",
    "        add = 0\n",
    "        for i in arg:\n",
    "            add += i\n",
    "        return add\n",
    "    elif kwarg[\"operator\"] == \"*\":\n",
    "        multi = 1\n",
    "        for i in arg:\n",
    "            multi *= i\n",
    "        return multi\n",
    "\n",
    "print(math(1,2,3,4,5, operator=\"+\"))\n",
    "print(math(1,2,3,4,5, operator=\"*\"))"
   ]
  },
  {
   "cell_type": "code",
   "execution_count": null,
   "id": "a77ad8e2-f5c5-425f-942f-ad7913bda0b9",
   "metadata": {},
   "outputs": [],
   "source": []
  }
 ],
 "metadata": {
  "kernelspec": {
   "display_name": "Python [conda env:base] *",
   "language": "python",
   "name": "conda-base-py"
  },
  "language_info": {
   "codemirror_mode": {
    "name": "ipython",
    "version": 3
   },
   "file_extension": ".py",
   "mimetype": "text/x-python",
   "name": "python",
   "nbconvert_exporter": "python",
   "pygments_lexer": "ipython3",
   "version": "3.12.7"
  }
 },
 "nbformat": 4,
 "nbformat_minor": 5
}
