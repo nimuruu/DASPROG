{
 "cells": [
  {
   "cell_type": "code",
   "execution_count": 23,
   "id": "8f8aca73-7852-4413-b9f9-1feb3bb147d7",
   "metadata": {},
   "outputs": [
    {
     "name": "stdin",
     "output_type": "stream",
     "text": [
      "Angka 1: 2\n",
      "Angka 2: 2\n"
     ]
    },
    {
     "ename": "NameError",
     "evalue": "name 'num' is not defined",
     "output_type": "error",
     "traceback": [
      "\u001b[1;31m---------------------------------------------------------------------------\u001b[0m",
      "\u001b[1;31mNameError\u001b[0m                                 Traceback (most recent call last)",
      "Cell \u001b[1;32mIn[23], line 7\u001b[0m\n\u001b[0;32m      4\u001b[0m num2 \u001b[38;5;241m=\u001b[39m \u001b[38;5;28mint\u001b[39m(\u001b[38;5;28minput\u001b[39m(\u001b[38;5;124m\"\u001b[39m\u001b[38;5;124mAngka 2:\u001b[39m\u001b[38;5;124m\"\u001b[39m))\n\u001b[0;32m      6\u001b[0m r1 \u001b[38;5;241m=\u001b[39m math\u001b[38;5;241m.\u001b[39madd(num1,num2)\n\u001b[1;32m----> 7\u001b[0m r2 \u001b[38;5;241m=\u001b[39m math\u001b[38;5;241m.\u001b[39mmulti(num1,num2)\n\u001b[0;32m      8\u001b[0m r3 \u001b[38;5;241m=\u001b[39m math\u001b[38;5;241m.\u001b[39mpow(num1,num2)\n\u001b[0;32m     10\u001b[0m \u001b[38;5;28mprint\u001b[39m(\u001b[38;5;124mf\u001b[39m\u001b[38;5;124m\"\u001b[39m\u001b[38;5;132;01m{\u001b[39;00mnum1\u001b[38;5;132;01m}\u001b[39;00m\u001b[38;5;124m + \u001b[39m\u001b[38;5;132;01m{\u001b[39;00mnum2\u001b[38;5;132;01m}\u001b[39;00m\u001b[38;5;124m : \u001b[39m\u001b[38;5;132;01m{\u001b[39;00mr1\u001b[38;5;132;01m}\u001b[39;00m\u001b[38;5;124m\"\u001b[39m)\n",
      "File \u001b[1;32m~\\Documents\\CODING\\PYTHON\\ImportModul\\Aritmatika\\math.py:5\u001b[0m, in \u001b[0;36mmulti\u001b[1;34m(num1, num2)\u001b[0m\n\u001b[0;32m      4\u001b[0m \u001b[38;5;28;01mdef\u001b[39;00m \u001b[38;5;21mmulti\u001b[39m (num1,num2):\n\u001b[1;32m----> 5\u001b[0m     \u001b[38;5;28;01mreturn\u001b[39;00m num \u001b[38;5;241m*\u001b[39m num2\n",
      "\u001b[1;31mNameError\u001b[0m: name 'num' is not defined"
     ]
    }
   ],
   "source": [
    "import Aritmatika.math as math\n",
    "\n",
    "num1 = int(input(\"Angka 1:\"))\n",
    "num2 = int(input(\"Angka 2:\"))\n",
    "\n",
    "r1 = math.add(num1,num2)\n",
    "r2 = math.multi(num1,num2)\n",
    "r3 = math.pow(num1,num2)\n",
    "\n",
    "print(f\"{num1} + {num2} : {r1}\")\n",
    "print(f\"{num1} * {num2} : {r2}\")\n",
    "print(f\"{num1} ** {num2} : {r3}\")"
   ]
  },
  {
   "cell_type": "code",
   "execution_count": 21,
   "id": "bf6ffe24-1d1a-4c07-ad3c-4c01dd8185c1",
   "metadata": {},
   "outputs": [
    {
     "name": "stdin",
     "output_type": "stream",
     "text": [
      "Panjang : 100\n"
     ]
    },
    {
     "name": "stdout",
     "output_type": "stream",
     "text": [
      "100 cm sama dengan 1.0 meter\n"
     ]
    }
   ],
   "source": [
    "from Konversi.convert import cmToMeter as ctm\n",
    "panjang = int(input(\"Panjang :\"))\n",
    "hasil = ctm(panjang)\n",
    "print(f\"{panjang} cm sama dengan {hasil} meter\")"
   ]
  },
  {
   "cell_type": "code",
   "execution_count": 69,
   "id": "17b90b0d-d6e1-464d-b8a9-dc8ce3f43f46",
   "metadata": {},
   "outputs": [],
   "source": [
    "def menuUtama():\n",
    "    print(\"\"\"\n",
    "    1. Aritmatika\n",
    "    2. Konversi\n",
    "    \"\"\")\n",
    "\n",
    "def menuAritmatika():\n",
    "    print(\"\"\"\n",
    "    1. Tambah\n",
    "    2. Kali\n",
    "    3. Bagi\n",
    "    4. Exit\n",
    "    \"\"\")\n",
    "    return int(input(\"Pilih Opsi:\"))\n",
    "\n",
    "def menuKonversi():\n",
    "    print(\"\"\"\n",
    "    1. CM ke Meter\n",
    "    2. Meter ke CM\n",
    "    3. Exit\n",
    "    \"\"\")"
   ]
  },
  {
   "cell_type": "code",
   "execution_count": null,
   "id": "51449a35-6309-4d09-b6b1-0773a6c4a627",
   "metadata": {},
   "outputs": [
    {
     "name": "stdout",
     "output_type": "stream",
     "text": [
      "\n",
      "    1. Aritmatika\n",
      "    2. Konversi\n",
      "    \n"
     ]
    },
    {
     "name": "stdin",
     "output_type": "stream",
     "text": [
      "Pilih Menu: 1\n"
     ]
    },
    {
     "name": "stdout",
     "output_type": "stream",
     "text": [
      "\n",
      "    1. Tambah\n",
      "    2. Kali\n",
      "    3. Bagi\n",
      "    4. Exit\n",
      "    \n"
     ]
    }
   ],
   "source": [
    "while True:\n",
    "    menuUtama()\n",
    "    menu = int(input(\"Pilih Menu:\"))\n",
    "    if menu == 1:\n",
    "        menu = menuAritmatika()\n",
    "    elif menu == 2:\n",
    "        menuKonversi()\n",
    "        print()\n",
    "    elif menu == 3:\n",
    "        print(\"Thank You\")\n",
    "        break"
   ]
  },
  {
   "cell_type": "code",
   "execution_count": null,
   "id": "0caef803-10be-4109-ae1b-5212bd92d416",
   "metadata": {},
   "outputs": [],
   "source": []
  }
 ],
 "metadata": {
  "kernelspec": {
   "display_name": "Python [conda env:base] *",
   "language": "python",
   "name": "conda-base-py"
  },
  "language_info": {
   "codemirror_mode": {
    "name": "ipython",
    "version": 3
   },
   "file_extension": ".py",
   "mimetype": "text/x-python",
   "name": "python",
   "nbconvert_exporter": "python",
   "pygments_lexer": "ipython3",
   "version": "3.12.7"
  }
 },
 "nbformat": 4,
 "nbformat_minor": 5
}
