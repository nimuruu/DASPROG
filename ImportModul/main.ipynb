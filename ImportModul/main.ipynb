{
 "cells": [
  {
   "cell_type": "code",
   "execution_count": 1,
   "id": "8f8aca73-7852-4413-b9f9-1feb3bb147d7",
   "metadata": {},
   "outputs": [
    {
     "name": "stdin",
     "output_type": "stream",
     "text": [
      "Angka 1: 1\n",
      "Angka 2: 2\n"
     ]
    },
    {
     "name": "stdout",
     "output_type": "stream",
     "text": [
      "1 + 2 : 3\n",
      "1 * 2 : 2\n",
      "1 ^ 2 : 1\n"
     ]
    }
   ],
   "source": [
    "import Aritmatika.math as math\n",
    "\n",
    "num1 = int(input(\"Angka 1:\"))\n",
    "num2 = int(input(\"Angka 2:\"))\n",
    "\n",
    "r1 = math.add(num1,num2)\n",
    "r2 = math.multi(num1,num2)\n",
    "r3 = math.pow(num1,num2)\n",
    "\n",
    "print(f\"{num1} + {num2} : {r1}\")\n",
    "print(f\"{num1} * {num2} : {r2}\")\n",
    "print(f\"{num1} ^ {num2} : {r3}\")"
   ]
  },
  {
   "cell_type": "code",
   "execution_count": 21,
   "id": "bf6ffe24-1d1a-4c07-ad3c-4c01dd8185c1",
   "metadata": {},
   "outputs": [
    {
     "name": "stdin",
     "output_type": "stream",
     "text": [
      "Panjang : 100\n"
     ]
    },
    {
     "name": "stdout",
     "output_type": "stream",
     "text": [
      "100 cm sama dengan 1.0 meter\n"
     ]
    }
   ],
   "source": [
    "from Konversi.convert import cmToMeter as ctm\n",
    "panjang = int(input(\"Panjang :\"))\n",
    "hasil = ctm(panjang)\n",
    "print(f\"{panjang} cm sama dengan {hasil} meter\")"
   ]
  },
  {
   "cell_type": "code",
   "execution_count": 9,
   "id": "17b90b0d-d6e1-464d-b8a9-dc8ce3f43f46",
   "metadata": {},
   "outputs": [],
   "source": [
    "def menuAritmatika():\n",
    "    from Aritmatika.math import add, multi, pow\n",
    "    while True:\n",
    "        print(\"\"\"\n",
    "        Menu Aritmatika\n",
    "        1. Tambah\n",
    "        2. Kali\n",
    "        3. Pangkat\n",
    "        4. Back\n",
    "        \"\"\")\n",
    "        try:\n",
    "            pMath = int(input(\"Pilih Fungsi: \"))\n",
    "            if pMath == 1:\n",
    "                num1 = int(input(\"angka 1: \"))\n",
    "                num2 = int(input(\"angka 2: \"))\n",
    "                result = add(num1, num2)\n",
    "                print(f\"Hasil: {result}\")\n",
    "            elif pMath == 2:\n",
    "                num1 = int(input(\"angka 1: \"))\n",
    "                num2 = int(input(\"angka 2: \"))\n",
    "                result = multi(num1, num2)\n",
    "                print(f\"Hasil: {result}\")\n",
    "            elif pMath == 3:\n",
    "                num1 = int(input(\"angka 1: \"))\n",
    "                num2 = int(input(\"Pangkat: \"))\n",
    "                result = pow(num1, num2)\n",
    "                print(f\"Hasil: {result}\")\n",
    "            elif pMath == 4:\n",
    "                break\n",
    "            else:\n",
    "                print(\"Pilihan tidak valid.\")\n",
    "        except ValueError:\n",
    "            print(\"Masukkan angka yang valid.\")\n",
    "\n",
    "def menuKonversi():\n",
    "    from Konversi.convert import cmToMeter, meterToCm\n",
    "    while True:\n",
    "        print(\"\"\"\n",
    "        Menu Konversi\n",
    "        1. Cm To Meter\n",
    "        2. Meter To CM\n",
    "        3. Back\n",
    "        \"\"\")\n",
    "        try:\n",
    "            kMath = int(input(\"Pilih Fungsi: \"))\n",
    "            if kMath == 1:\n",
    "                panjang = int(input(\"Masukan Panjang (cm): \"))\n",
    "                hasil = cmToMeter(panjang)\n",
    "                print(f\"Hasil: {hasil} meter\")\n",
    "            elif kMath == 2:\n",
    "                panjang = int(input(\"Masukan Panjang (meter): \"))\n",
    "                hasil = meterToCm(panjang)\n",
    "                print(f\"Hasil: {hasil} cm\")\n",
    "            elif kMath == 3:\n",
    "                break\n",
    "            else:\n",
    "                print(\"Pilihan tidak valid.\")\n",
    "        except ValueError:\n",
    "            print(\"Masukan angka yang valid.\")\n",
    "\n",
    "def menuUbahBilangan():\n",
    "    from UbahBilangan.UbahBilangan import decimalToBinary, decimalToOctal, decimalToHexadecimal\n",
    "    while True:\n",
    "        print(\"\"\"\n",
    "        Menu Ubah Bilangan\n",
    "        1. Desimal ke Biner\n",
    "        2. Desimal ke Oktal\n",
    "        3. Desimal ke Hexadesimal\n",
    "        4. Kembali\n",
    "        \"\"\")\n",
    "        try:\n",
    "            pilih = int(input(\"Pilih Fungsi: \"))\n",
    "            if pilih in [1, 2, 3]:\n",
    "                num = int(input(\"Masukkan bilangan desimal: \"))\n",
    "                if pilih == 1:\n",
    "                    hasil = decimalToBinary(num)\n",
    "                    print(f\"Biner: {hasil}\")\n",
    "                elif pilih == 2:\n",
    "                    hasil = decimalToOctal(num)\n",
    "                    print(f\"Oktal: {hasil}\")\n",
    "                elif pilih == 3:\n",
    "                    hasil = decimalToHexadecimal(num)\n",
    "                    print(f\"Hexadesimal: {hasil}\")\n",
    "            elif pilih == 4:\n",
    "                break\n",
    "            else:\n",
    "                print(\"Pilihan tidak valid.\")\n",
    "        except ValueError:\n",
    "            print(\"Masukkan angka yang valid.\")"
   ]
  },
  {
   "cell_type": "code",
   "execution_count": 11,
   "id": "51449a35-6309-4d09-b6b1-0773a6c4a627",
   "metadata": {},
   "outputs": [
    {
     "name": "stdout",
     "output_type": "stream",
     "text": [
      "\n",
      "        1. Aritmatika\n",
      "        2. Konversi Satuan\n",
      "        3. Ubah Bilangan\n",
      "        4. Exit\n",
      "        \n"
     ]
    },
    {
     "name": "stdin",
     "output_type": "stream",
     "text": [
      "Pilih Menu:  3\n"
     ]
    },
    {
     "ename": "ModuleNotFoundError",
     "evalue": "No module named 'UbahBilangan.bilangan'",
     "output_type": "error",
     "traceback": [
      "\u001b[1;31m---------------------------------------------------------------------------\u001b[0m",
      "\u001b[1;31mModuleNotFoundError\u001b[0m                       Traceback (most recent call last)",
      "Cell \u001b[1;32mIn[11], line 26\u001b[0m\n\u001b[0;32m     23\u001b[0m             \u001b[38;5;28mprint\u001b[39m(\u001b[38;5;124m\"\u001b[39m\u001b[38;5;124mMasukkan angka yang valid!\u001b[39m\u001b[38;5;124m\"\u001b[39m)\n\u001b[0;32m     25\u001b[0m \u001b[38;5;28;01mif\u001b[39;00m \u001b[38;5;18m__name__\u001b[39m \u001b[38;5;241m==\u001b[39m \u001b[38;5;124m\"\u001b[39m\u001b[38;5;124m__main__\u001b[39m\u001b[38;5;124m\"\u001b[39m:\n\u001b[1;32m---> 26\u001b[0m     menuUtama()\n",
      "Cell \u001b[1;32mIn[11], line 16\u001b[0m, in \u001b[0;36mmenuUtama\u001b[1;34m()\u001b[0m\n\u001b[0;32m     14\u001b[0m     menuKonversiSatuan()\n\u001b[0;32m     15\u001b[0m \u001b[38;5;28;01melif\u001b[39;00m choice \u001b[38;5;241m==\u001b[39m \u001b[38;5;241m3\u001b[39m:\n\u001b[1;32m---> 16\u001b[0m     menuUbahBilangan()\n\u001b[0;32m     17\u001b[0m \u001b[38;5;28;01melif\u001b[39;00m choice \u001b[38;5;241m==\u001b[39m \u001b[38;5;241m4\u001b[39m:\n\u001b[0;32m     18\u001b[0m     \u001b[38;5;28mprint\u001b[39m(\u001b[38;5;124m\"\u001b[39m\u001b[38;5;124mTerima kasih.\u001b[39m\u001b[38;5;124m\"\u001b[39m)\n",
      "Cell \u001b[1;32mIn[9], line 62\u001b[0m, in \u001b[0;36mmenuUbahBilangan\u001b[1;34m()\u001b[0m\n\u001b[0;32m     61\u001b[0m \u001b[38;5;28;01mdef\u001b[39;00m \u001b[38;5;21mmenuUbahBilangan\u001b[39m():\n\u001b[1;32m---> 62\u001b[0m     \u001b[38;5;28;01mfrom\u001b[39;00m \u001b[38;5;21;01mUbahBilangan\u001b[39;00m\u001b[38;5;21;01m.\u001b[39;00m\u001b[38;5;21;01mbilangan\u001b[39;00m \u001b[38;5;28;01mimport\u001b[39;00m decimalToBinary, decimalToOctal, decimalToHexadecimal\n\u001b[0;32m     63\u001b[0m     \u001b[38;5;28;01mwhile\u001b[39;00m \u001b[38;5;28;01mTrue\u001b[39;00m:\n\u001b[0;32m     64\u001b[0m         \u001b[38;5;28mprint\u001b[39m(\u001b[38;5;124m\"\"\"\u001b[39m\n\u001b[0;32m     65\u001b[0m \u001b[38;5;124m        Menu Ubah Bilangan\u001b[39m\n\u001b[0;32m     66\u001b[0m \u001b[38;5;124m        1. Desimal ke Biner\u001b[39m\n\u001b[1;32m   (...)\u001b[0m\n\u001b[0;32m     69\u001b[0m \u001b[38;5;124m        4. Kembali\u001b[39m\n\u001b[0;32m     70\u001b[0m \u001b[38;5;124m        \u001b[39m\u001b[38;5;124m\"\"\"\u001b[39m)\n",
      "\u001b[1;31mModuleNotFoundError\u001b[0m: No module named 'UbahBilangan.bilangan'"
     ]
    }
   ],
   "source": [
    "def menuUtama():\n",
    "    while True:\n",
    "        print(\"\"\"\n",
    "        1. Aritmatika\n",
    "        2. Konversi Satuan\n",
    "        3. Ubah Bilangan\n",
    "        4. Exit\n",
    "        \"\"\")\n",
    "        try:\n",
    "            choice = int(input(\"Pilih Menu: \"))\n",
    "            if choice == 1:\n",
    "                menuAritmatika()\n",
    "            elif choice == 2:\n",
    "                menuKonversiSatuan()\n",
    "            elif choice == 3:\n",
    "                menuUbahBilangan()\n",
    "            elif choice == 4:\n",
    "                print(\"Terima kasih.\")\n",
    "                break\n",
    "            else:\n",
    "                print(\"Pilihan tidak valid!\")\n",
    "        except ValueError:\n",
    "            print(\"Masukkan angka yang valid!\")\n",
    "\n",
    "if __name__ == \"__main__\":\n",
    "    menuUtama()"
   ]
  },
  {
   "cell_type": "code",
   "execution_count": null,
   "id": "0caef803-10be-4109-ae1b-5212bd92d416",
   "metadata": {},
   "outputs": [],
   "source": []
  }
 ],
 "metadata": {
  "kernelspec": {
   "display_name": "Python [conda env:base] *",
   "language": "python",
   "name": "conda-base-py"
  },
  "language_info": {
   "codemirror_mode": {
    "name": "ipython",
    "version": 3
   },
   "file_extension": ".py",
   "mimetype": "text/x-python",
   "name": "python",
   "nbconvert_exporter": "python",
   "pygments_lexer": "ipython3",
   "version": "3.12.7"
  }
 },
 "nbformat": 4,
 "nbformat_minor": 5
}
