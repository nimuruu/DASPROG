{
 "cells": [
  {
   "cell_type": "markdown",
   "id": "cc9d2a89-edee-42c7-9f01-dc4a8597c65a",
   "metadata": {},
   "source": [
    "<h1>CASE IO/STRING</h1>"
   ]
  },
  {
   "cell_type": "code",
   "execution_count": 4,
   "id": "d35332c1-6248-4772-b19a-f7589dc0c9c4",
   "metadata": {},
   "outputs": [
    {
     "name": "stdin",
     "output_type": "stream",
     "text": [
      "Masukan nama: Anby Demara\n",
      "Masukan umur: 19\n",
      "Masukan kelas: TI24G\n"
     ]
    },
    {
     "name": "stdout",
     "output_type": "stream",
     "text": [
      "\n",
      "nama anda adalah: Anby Demara\n",
      "umur anda adalah: 19\n",
      "kelas anda adalah: TI24G\n"
     ]
    }
   ],
   "source": [
    "nama = input(\"Masukan nama:\")\n",
    "umur = input(\"Masukan umur:\")\n",
    "kelas = input(\"Masukan kelas:\")\n",
    "print()\n",
    "print(f\"nama anda adalah: {nama}\")\n",
    "print(f\"umur anda adalah: {umur}\")\n",
    "print(f\"kelas anda adalah: {kelas}\")\n"
   ]
  },
  {
   "cell_type": "code",
   "execution_count": 53,
   "id": "fbee6fb7-564e-4ff5-ac53-78d2ab837f08",
   "metadata": {},
   "outputs": [
    {
     "name": "stdout",
     "output_type": "stream",
     "text": [
      "['UNIVERSITAS', 'NUSA', 'PUTRA', 'SUKABUMI']\n",
      "a. putra nusa\n",
      "b. NIVERSITAS NSA PTRA SKABMI\n",
      "c. SUKABUMI PUTRA NUSA UNIVERSITAS\n",
      "d. UNPS\n",
      "e. TAS SAPU BUMI\n"
     ]
    }
   ],
   "source": [
    "text = \"UNIVERSITAS NUSA PUTRA SUKABUMI\"\n",
    "\n",
    "word = text.split(' ')\n",
    "\n",
    "print(word)\n",
    "print(\"a.\", word[2].lower(), word[1].lower())\n",
    "print(\"b.\", text.replace(\"U\",\"\"))\n",
    "print(\"c.\", word[3], word[2], word[1], word[0])\n",
    "print(\"d.\", word[0][0] + word[1][0] + word[2][0] + word[3][0])\n",
    "print(\"e.\", word[0][-3:], word[1][-2:] + word[2][:2],word[3][-4:])"
   ]
  },
  {
   "cell_type": "code",
   "execution_count": null,
   "id": "f289bfd3-35ab-44a9-a398-493832a5c7a1",
   "metadata": {},
   "outputs": [],
   "source": []
  }
 ],
 "metadata": {
  "kernelspec": {
   "display_name": "Python [conda env:base] *",
   "language": "python",
   "name": "conda-base-py"
  },
  "language_info": {
   "codemirror_mode": {
    "name": "ipython",
    "version": 3
   },
   "file_extension": ".py",
   "mimetype": "text/x-python",
   "name": "python",
   "nbconvert_exporter": "python",
   "pygments_lexer": "ipython3",
   "version": "3.12.7"
  }
 },
 "nbformat": 4,
 "nbformat_minor": 5
}
