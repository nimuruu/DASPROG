{
 "cells": [
  {
   "cell_type": "code",
   "execution_count": null,
   "id": "45f9c97a-4f32-4de7-9fce-be90f0f219ed",
   "metadata": {},
   "outputs": [],
   "source": [
    "#EDA\n",
    "\n",
    "import"
   ]
  }
 ],
 "metadata": {
  "kernelspec": {
   "display_name": "Python [conda env:base] *",
   "language": "python",
   "name": "conda-base-py"
  },
  "language_info": {
   "codemirror_mode": {
    "name": "ipython",
    "version": 3
   },
   "file_extension": ".py",
   "mimetype": "text/x-python",
   "name": "python",
   "nbconvert_exporter": "python",
   "pygments_lexer": "ipython3",
   "version": "3.12.7"
  }
 },
 "nbformat": 4,
 "nbformat_minor": 5
}
