{
 "cells": [
  {
   "cell_type": "markdown",
   "id": "2ee04881-c73e-43b5-9141-78c288b2d10b",
   "metadata": {},
   "source": [
    "<h1>Operator Aritmatika</h1>"
   ]
  },
  {
   "cell_type": "code",
   "execution_count": 1,
   "id": "6c893767-d6fc-486b-8162-6585af5ae949",
   "metadata": {},
   "outputs": [
    {
     "name": "stdin",
     "output_type": "stream",
     "text": [
      "Isikan Nilai X: 2\n",
      "Isikan Nilai Y: 3\n"
     ]
    },
    {
     "name": "stdout",
     "output_type": "stream",
     "text": [
      "Hasil Penjumlahan 2 + 3 = 5\n",
      "Hasil Pengurangan 2 - 3 = -1\n",
      "Hasil Kali 2 * 3 = 6\n",
      "Hasil Bagi 2 / 3 = 0.6666666666666666\n",
      "Hasil Modulus 2 % 3 = 2\n",
      "Hasil Modulus 2 % 3 = 2\n",
      "Hasil Pangkat 2 ** 3 = 8\n",
      "Hasil Bagi Bulat 2 // 3 = 0\n"
     ]
    }
   ],
   "source": [
    "x = int(input(\"Isikan Nilai X:\"))\n",
    "y = int(input(\"Isikan Nilai Y:\"))\n",
    "\n",
    "hasilTambah = x + y;\n",
    "hasilKurang = x - y;\n",
    "hasilKali = x * y;\n",
    "hasilBagi = x / y;\n",
    "hasilMod = x % y;\n",
    "hasilPangkat = x ** y;\n",
    "hasilBagiBulat = x // y;\n",
    "\n",
    "print(\"Hasil Penjumlahan\", x, \"+\", y, \"=\", hasilTambah)\n",
    "print(\"Hasil Pengurangan\", x, \"-\", y, \"=\", hasilKurang)\n",
    "print(\"Hasil Kali\", x, \"*\", y, \"=\", hasilKali)\n",
    "print(\"Hasil Bagi\", x, \"/\", y, \"=\", hasilBagi)\n",
    "print(\"Hasil Modulus\", x, \"%\", y, \"=\", hasilMod)\n",
    "print(\"Hasil Modulus\", x, \"%\", y, \"=\", hasilMod)\n",
    "print(\"Hasil Pangkat\", x, \"**\", y, \"=\", hasilPangkat)\n",
    "print(\"Hasil Bagi Bulat\", x, \"//\", y, \"=\", hasilBagiBulat)"
   ]
  },
  {
   "cell_type": "markdown",
   "id": "a9f3fc97-a07b-4268-9b11-7751a6247d7b",
   "metadata": {},
   "source": [
    "<h1>Operator Penugasan</h1>"
   ]
  },
  {
   "cell_type": "markdown",
   "id": "6924e91c-4be5-46fa-8bca-96683c3d75dd",
   "metadata": {},
   "source": [
    "number = int(input(\"Isikan Nilai: \"))\n",
    "print(\"Nilai Dari Variable 'number'\", number)\n",
    "number+=5\n",
    "print(\"Setelah ditambah dengan 5:\", number)\n",
    "number-=10\n",
    "print(\"Kemudian dikurangi 10:\", number)\n",
    "number/=2\n",
    "print(\"Selanjutnya dibagi Dengan 2:\", number)\n",
    "number*=5\n",
    "print(\"Terakhir dikalikan 5:\", number)"
   ]
  },
  {
   "cell_type": "markdown",
   "id": "c614c53d-88a7-4e01-bbf9-5c7007b31e85",
   "metadata": {},
   "source": [
    "<h1>Operator Pemandingan</h1>"
   ]
  },
  {
   "cell_type": "code",
   "execution_count": 21,
   "id": "2bf98e51-3ece-4217-9061-e7048d8f5c81",
   "metadata": {},
   "outputs": [
    {
     "name": "stdin",
     "output_type": "stream",
     "text": [
      "Isikan Nilai val1: 2\n",
      "Isikan Nilai val2: 3\n"
     ]
    },
    {
     "name": "stdout",
     "output_type": "stream",
     "text": [
      "Apakah 2 > 3 ? False\n",
      "Apakah 2 < 3 ? True\n",
      "Apakah 2 >= 3 ? False\n",
      "Apakah 2 <= 3 ? True\n",
      "Apakah 2 == 3 ? False\n",
      "Apakah 2 != 3 ? True\n"
     ]
    }
   ],
   "source": [
    "val1 = int(input(\"Isikan Nilai val1:\"))\n",
    "val2 = int(input(\"Isikan Nilai val2:\"))\n",
    "\n",
    "print(\"Apakah\", val1, \">\", val2, \"?\", val1 > val2)\n",
    "print(\"Apakah\", val1, \"<\", val2, \"?\", val1 < val2)\n",
    "print(\"Apakah\", val1, \">=\", val2, \"?\", val1 >= val2)\n",
    "print(\"Apakah\", val1, \"<=\", val2, \"?\", val1 <= val2)\n",
    "print(\"Apakah\", val1, \"==\", val2, \"?\", val1 == val2)\n",
    "print(\"Apakah\", val1, \"!=\", val2, \"?\", val1 != val2)"
   ]
  },
  {
   "cell_type": "markdown",
   "id": "0da94d5a-df53-4c56-82b6-af1adc510b5a",
   "metadata": {},
   "source": [
    "<h1>Operator Logika</h1>"
   ]
  },
  {
   "cell_type": "code",
   "execution_count": 31,
   "id": "a4cf171b-0037-4de5-a739-ede59a68bd75",
   "metadata": {},
   "outputs": [
    {
     "name": "stdin",
     "output_type": "stream",
     "text": [
      "Isikan number1: 2\n",
      "Isikan number2: 4\n",
      "Isikan number3: 2\n",
      "Isikan number4: 4\n"
     ]
    },
    {
     "name": "stdout",
     "output_type": "stream",
     "text": [
      "Apakah 2 > 4 and 2 == 4 ?\n",
      "False\n",
      "Apakah 2 > 4 or 2 == 4 ?\n",
      "False\n",
      "Apakah 2 > 4 not and 2 == 4 ?\n",
      "True\n"
     ]
    }
   ],
   "source": [
    "number1 = int(input(\"Isikan number1:\"))\n",
    "number2 = int(input(\"Isikan number2:\"))\n",
    "number3 = int(input(\"Isikan number3:\"))\n",
    "number4 = int(input(\"Isikan number4:\"))\n",
    "\n",
    "#and\n",
    "print(\"Apakah\", number1, \">\", number2, \"and\", number3, \"==\", number4, \"?\")\n",
    "print(number1 > number2 and number3 == number4)\n",
    "\n",
    "#or\n",
    "print(\"Apakah\", number1, \">\", number2, \"or\", number3, \"==\", number4, \"?\")\n",
    "print(number1 > number2 or number3 == number4)\n",
    "\n",
    "#nand\n",
    "print(\"Apakah\", number1, \">\", number2, \"not and\", number3, \"==\", number4, \"?\")\n",
    "print(not(number1 > number2 and number3 == number4))"
   ]
  },
  {
   "cell_type": "markdown",
   "id": "09f23b99-5cb1-480a-b1d0-6ba46a847e77",
   "metadata": {},
   "source": [
    "<h1>Operator Identitas</h1>"
   ]
  },
  {
   "cell_type": "code",
   "execution_count": 41,
   "id": "6699edb7-f52a-4958-9754-1fedf6b9dec3",
   "metadata": {},
   "outputs": [
    {
     "name": "stdout",
     "output_type": "stream",
     "text": [
      "Alamat Memori idty1 140730197093080\n",
      "Alamat Memori idty2 2189335390864\n",
      "Alamat Memori idty3 140730197093080\n",
      "Apakah idty1 is idty2? False\n",
      "Apakah idty2 is idty3? False\n",
      "Apakah idty3 is idty1? True\n",
      "Apakah idty1 is not idty2? True\n",
      "Apakah idty2 is not idty3? True\n",
      "Apakah idty3 is not idty1? False\n"
     ]
    }
   ],
   "source": [
    "idty1 = 10\n",
    "idty2 = \"10\"\n",
    "idty3 = idty1\n",
    "\n",
    "print(\"Alamat Memori idty1\", id(idty1))\n",
    "print(\"Alamat Memori idty2\", id(idty2))\n",
    "print(\"Alamat Memori idty3\", id(idty3))\n",
    "\n",
    "print(\"Apakah idty1 is idty2?\", idty1 is idty2)\n",
    "print(\"Apakah idty2 is idty3?\", idty2 is idty3)\n",
    "print(\"Apakah idty3 is idty1?\", idty3 is idty1)\n",
    "\n",
    "print(\"Apakah idty1 is not idty2?\", idty1 is not idty2)\n",
    "print(\"Apakah idty2 is not idty3?\", idty2 is not idty3)\n",
    "print(\"Apakah idty3 is not idty1?\", idty3 is not idty1)\n"
   ]
  },
  {
   "cell_type": "markdown",
   "id": "d5009fb2-2609-449d-8041-2c47c9ea9187",
   "metadata": {},
   "source": [
    "<h1>Operator Keangotaan</h1>"
   ]
  },
  {
   "cell_type": "code",
   "execution_count": 49,
   "id": "94f35bdc-93f9-4806-aa4a-81004f1c4272",
   "metadata": {},
   "outputs": [
    {
     "name": "stdin",
     "output_type": "stream",
     "text": [
      "Insert Your Student: Anby\n"
     ]
    },
    {
     "name": "stdout",
     "output_type": "stream",
     "text": [
      "Is There any Anby in ['Anby', 'Nicole', 'Billy', 'Nekomata'] ? True\n",
      "Is There any Anby not in ['Anby', 'Nicole', 'Billy', 'Nekomata'] ? False\n"
     ]
    }
   ],
   "source": [
    "listStudent = [\"Anby\", \"Nicole\", \"Billy\", \"Nekomata\"]\n",
    "findStudent = input(\"Insert Your Student:\")\n",
    "print(\"Is There any\", findStudent, \"in\", listStudent, \"?\", findStudent in listStudent)\n",
    "print(\"Is There any\", findStudent, \"not in\", listStudent, \"?\", findStudent not in listStudent)"
   ]
  },
  {
   "cell_type": "markdown",
   "id": "d9b7356f-d924-4afc-818d-da2dc461e144",
   "metadata": {},
   "source": [
    "<h1>Operator Bitwise</h1>"
   ]
  },
  {
   "cell_type": "code",
   "execution_count": 53,
   "id": "61d5bb90-c3f6-44db-85c0-266437a19059",
   "metadata": {},
   "outputs": [
    {
     "name": "stdin",
     "output_type": "stream",
     "text": [
      "Insert Bilangan 1: 10\n",
      "Insert Bilangan 2: 2\n"
     ]
    },
    {
     "name": "stdout",
     "output_type": "stream",
     "text": [
      "0b1010\n",
      "0b10\n",
      "============&\n",
      "0b10 = 2\n",
      "\n",
      "0b1010\n",
      "0b10\n",
      "============|\n",
      "0b1010 = 10\n"
     ]
    }
   ],
   "source": [
    "num1 = int(input(\"Insert Bilangan 1:\"))\n",
    "num2 = int(input(\"Insert Bilangan 2:\"))\n",
    "\n",
    "bAnd = num1 & num2\n",
    "print(bin(num1))\n",
    "print(bin(num2))\n",
    "print(\"============&\")\n",
    "print(bin(bAnd), \"=\", bAnd)\n",
    "print()\n",
    "bOr = num1 | num2\n",
    "print(bin(num1))\n",
    "print(bin(num2))\n",
    "print(\"============|\")\n",
    "print(bin(bOr), \"=\", bOr)"
   ]
  },
  {
   "cell_type": "markdown",
   "id": "b92cfa3f-8f1c-41a5-8e98-035a4639d9eb",
   "metadata": {},
   "source": [
    "<h1>Operator Ternary</h1>"
   ]
  },
  {
   "cell_type": "markdown",
   "id": "5d46f92f-0511-48cc-b34f-701ac119d103",
   "metadata": {},
   "source": [
    "#Bilangan Ganjil atau Genap\n",
    "bil = int(input(\"Isikan Bilangan:\"))\n",
    "oddEven = \"Genap\" if bil %2==0 else \"Ganjil\"\n",
    "print(bil, \"adalah bilangan\", oddEven)"
   ]
  },
  {
   "cell_type": "markdown",
   "id": "e6954bf9-598a-4820-9802-eddd26fec331",
   "metadata": {},
   "source": [
    "<h1>Latihan Sesi 4</h1>"
   ]
  },
  {
   "cell_type": "code",
   "execution_count": 73,
   "id": "2af952b5-f737-48d0-826d-5a8ade4787eb",
   "metadata": {},
   "outputs": [
    {
     "name": "stdin",
     "output_type": "stream",
     "text": [
      "Jumlah Es Buah: 10\n",
      "Jumlah Es Teler: 10\n",
      "Jumlah Es Kelapa: 10\n"
     ]
    },
    {
     "name": "stdout",
     "output_type": "stream",
     "text": [
      "Harga Es Buah: 50000\n",
      "Harga Es Teler: 70000\n",
      "Harga Es Kelapa: 90000\n",
      "==========================+\n",
      "Total Harga: 210000\n",
      "Diskon: 21000\n",
      "==========================-\n",
      "Total Harga (Diskon): 189000\n"
     ]
    }
   ],
   "source": [
    "EsBuah = 5000\n",
    "EsTeler = 7000\n",
    "EsKelapa = 9000\n",
    "\n",
    "esbuah = int(input(\"Jumlah Es Buah:\"))\n",
    "esteler = int(input(\"Jumlah Es Teler:\"))\n",
    "eskelapa = int(input(\"Jumlah Es Kelapa:\"))\n",
    "\n",
    "jumlahHargaBuah = esbuah * EsBuah\n",
    "jumlahHargaTeler = esteler * EsTeler\n",
    "jumlahHargaKelapa = eskelapa * EsKelapa\n",
    "\n",
    "print(\"Harga Es Buah:\", jumlahHargaBuah)\n",
    "print(\"Harga Es Teler:\", jumlahHargaTeler)\n",
    "print(\"Harga Es Kelapa:\", jumlahHargaKelapa)\n",
    "\n",
    "jumlahTotal = jumlahHargaBuah + jumlahHargaTeler + jumlahHargaKelapa\n",
    "\n",
    "diskon = jumlahTotal*1//10 if jumlahTotal >= 100000 else 0\n",
    "\n",
    "\n",
    "\n",
    "print(\"==========================+\")\n",
    "print(\"Total Harga:\", jumlahTotal)\n",
    "print(\"Diskon:\", diskon)\n",
    "\n",
    "jumlahAkhir = jumlahTotal - diskon\n",
    "\n",
    "print(\"==========================-\")\n",
    "print(\"Total Harga (Diskon):\", jumlahAkhir)\n",
    "\n",
    "\n",
    "\n"
   ]
  },
  {
   "cell_type": "code",
   "execution_count": 81,
   "id": "d104d374-498c-4c37-8d40-c12d1d36c25c",
   "metadata": {},
   "outputs": [
    {
     "name": "stdin",
     "output_type": "stream",
     "text": [
      "Masukan Bilangan: 1567\n"
     ]
    },
    {
     "name": "stdout",
     "output_type": "stream",
     "text": [
      "Hasil: 1548\n"
     ]
    }
   ],
   "source": [
    "bil = input(\"Masukan Bilangan:\")\n",
    "pekurangan = int(bil[0])+int(bil[1])+int(bil[2])+int(bil[3])\n",
    "print(\"Hasil:\", int(bil) - pekurangan)"
   ]
  },
  {
   "cell_type": "code",
   "execution_count": null,
   "id": "44931f64-8546-4e28-b662-f757ea852aa9",
   "metadata": {},
   "outputs": [],
   "source": []
  }
 ],
 "metadata": {
  "kernelspec": {
   "display_name": "Python [conda env:base] *",
   "language": "python",
   "name": "conda-base-py"
  },
  "language_info": {
   "codemirror_mode": {
    "name": "ipython",
    "version": 3
   },
   "file_extension": ".py",
   "mimetype": "text/x-python",
   "name": "python",
   "nbconvert_exporter": "python",
   "pygments_lexer": "ipython3",
   "version": "3.12.7"
  }
 },
 "nbformat": 4,
 "nbformat_minor": 5
}
